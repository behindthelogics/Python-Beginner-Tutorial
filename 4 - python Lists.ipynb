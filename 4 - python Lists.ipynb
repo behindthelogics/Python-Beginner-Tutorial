{
 "cells": [
  {
   "cell_type": "markdown",
   "metadata": {},
   "source": [
    "<h2> Python - 4 Mutable Data Structures | Lists \n",
    "   "
   ]
  },
  {
   "cell_type": "markdown",
   "metadata": {},
   "source": [
    "<p><strong>Hello! Everyone, Welcome to Python Tutorial 4</strong> In this video we will discuss about what is Mutable objects in python and we discuss in deatil about one of the mutable data structure List </p> "
   ]
  },
  {
   "cell_type": "markdown",
   "metadata": {},
   "source": [
    "<h2>Table of Contents</h2>\n",
    "<div class=\"alert alert-block alert-info\" style=\"margin-top: 20px\">\n",
    "    <ul>\n",
    "                <li>4.1. Creating Lists</li>\n",
    "                <li>4.2. Mutable Objects in python</li>\n",
    "                <li>4.3. Shallow and deep copy</li>\n",
    "                <li>4.4. Indexing and Slicing </li>\n",
    "    <li>4.5. Methods and functions </li></ul>\n",
    " \n",
    "</div>\n",
    "\n"
   ]
  },
  {
   "cell_type": "markdown",
   "metadata": {},
   "source": [
    "## 4. Lists\n",
    "\n",
    "- In Python list is a data structure that contains ordered sequence of elements which can be changeable. Elements can be different objects such as integers, strings, tuples and other lists.\n",
    "- Each value inside the list is called an element. \n",
    "\n",
    " - Strings are characters between quotes \"\"\n",
    "\n",
    " - Tuples are values between paranthesis ().\n",
    "\n",
    " - Lists are values between square brackets []."
   ]
  },
  {
   "cell_type": "markdown",
   "metadata": {},
   "source": [
    "### 4.1. Creating Lists"
   ]
  },
  {
   "cell_type": "code",
   "execution_count": 53,
   "metadata": {
    "scrolled": true
   },
   "outputs": [
    {
     "name": "stdout",
     "output_type": "stream",
     "text": [
      "[]\n",
      "<class 'list'>\n"
     ]
    }
   ],
   "source": [
    "# Creating an empty list\n",
    "emptyList = []\n",
    "print(emptyList)\n",
    "print(type(emptyList))"
   ]
  },
  {
   "cell_type": "code",
   "execution_count": 1,
   "metadata": {},
   "outputs": [
    {
     "data": {
      "text/plain": [
       "['movie1', 8.1, 1982]"
      ]
     },
     "execution_count": 1,
     "metadata": {},
     "output_type": "execute_result"
    }
   ],
   "source": [
    "# Creating a list with elements\n",
    "newList = [\"movie1\", 8.1, 1982]\n",
    "newList"
   ]
  },
  {
   "cell_type": "code",
   "execution_count": 56,
   "metadata": {},
   "outputs": [
    {
     "name": "stdout",
     "output_type": "stream",
     "text": [
      "0\n",
      "3\n"
     ]
    }
   ],
   "source": [
    "print(len(emptyList))\n",
    "print(len(newList))"
   ]
  },
  {
   "cell_type": "markdown",
   "metadata": {},
   "source": [
    "<h4>List Content</h3>"
   ]
  },
  {
   "cell_type": "markdown",
   "metadata": {},
   "source": [
    "Lists can contain strings, floats, and integers. We can nest other lists, tuples and other data structures.   "
   ]
  },
  {
   "cell_type": "code",
   "execution_count": 59,
   "metadata": {},
   "outputs": [
    {
     "name": "stdout",
     "output_type": "stream",
     "text": [
      "['somestring', 10.1, 1982, [1, 2], ('A', 1)]\n",
      "5\n"
     ]
    }
   ],
   "source": [
    "# Sample List\n",
    "mixedList = [\"somestring\", 10.1, 1982, [1, 2], (\"A\", 1)]\n",
    "print(mixedList)\n",
    "print(len(mixedList))"
   ]
  },
  {
   "cell_type": "code",
   "execution_count": 60,
   "metadata": {},
   "outputs": [
    {
     "name": "stdout",
     "output_type": "stream",
     "text": [
      "[7, 2, 5, 4, 1, 6, 3, 0]\n"
     ]
    },
    {
     "data": {
      "text/plain": [
       "8"
      ]
     },
     "execution_count": 60,
     "metadata": {},
     "output_type": "execute_result"
    }
   ],
   "source": [
    "numList = [7, 2, 5, 4, 1, 6, 3, 0]\n",
    "print(numList)\n",
    "len(numList)"
   ]
  },
  {
   "cell_type": "code",
   "execution_count": 2,
   "metadata": {},
   "outputs": [
    {
     "name": "stdout",
     "output_type": "stream",
     "text": [
      "True\n",
      "2727031956296\n",
      "2727031947016\n"
     ]
    }
   ],
   "source": [
    "# Comparing lists\n",
    "a = [1,2,3]\n",
    "b = [1,2,3]\n",
    "print(a == b) \n",
    "print(id(a))\n",
    "print(id(b))"
   ]
  },
  {
   "cell_type": "markdown",
   "metadata": {},
   "source": [
    "As list is a ordered sequence here order matters. let's see the result of comparision if we change the order of element"
   ]
  },
  {
   "cell_type": "code",
   "execution_count": 63,
   "metadata": {},
   "outputs": [
    {
     "name": "stdout",
     "output_type": "stream",
     "text": [
      "False\n"
     ]
    }
   ],
   "source": [
    "c = [2,1,3]\n",
    "print(a == c) "
   ]
  },
  {
   "cell_type": "markdown",
   "metadata": {},
   "source": [
    "<h3 >4.2. Mutable Objects in Python</h2>"
   ]
  },
  {
   "cell_type": "markdown",
   "metadata": {},
   "source": [
    "In the previous tutorial We already discussed that\n",
    "- Every variable in python is instance of an object.\n",
    "\n",
    "- Objects whose value cannot be changed once created are called immutable Objects. \n",
    " - Example :- Data types like int, float, bool, string, tuple.\n",
    "\n",
    "- An object whose value can be changed once created are called mutable Objects. \n",
    " - Example :- list, dict, set . \n",
    " "
   ]
  },
  {
   "cell_type": "markdown",
   "metadata": {},
   "source": [
    "Also In the previous tutorial we discussed about immutability using strings and tuples.   \n",
    " \n",
    "Let us understand more on mutability using lists."
   ]
  },
  {
   "cell_type": "markdown",
   "metadata": {},
   "source": [
    "#### Mutability of Lists"
   ]
  },
  {
   "cell_type": "markdown",
   "metadata": {},
   "source": [
    "Lists are mutable, Which means we can update the elements of lists. "
   ]
  },
  {
   "cell_type": "code",
   "execution_count": 268,
   "metadata": {},
   "outputs": [
    {
     "name": "stdout",
     "output_type": "stream",
     "text": [
      "[1, 2, 3, 4, 5]\n",
      "1764162937672\n"
     ]
    }
   ],
   "source": [
    "a = [1,2,3, 4, 5]\n",
    "print(a)\n",
    "print(id(a))"
   ]
  },
  {
   "cell_type": "code",
   "execution_count": 269,
   "metadata": {},
   "outputs": [
    {
     "name": "stdout",
     "output_type": "stream",
     "text": [
      "[1, 'apple', 3, 4, 5]\n",
      "1764162937672\n"
     ]
    }
   ],
   "source": [
    "a[1] = \"apple\"\n",
    "print(a)\n",
    "print(id(a))"
   ]
  },
  {
   "cell_type": "markdown",
   "metadata": {},
   "source": [
    "Value changed but id remains same .. ie) the same object is being updated which is called mutability. This we cannot do it in other ordered sequences like tuples and strings as they are immutable."
   ]
  },
  {
   "cell_type": "markdown",
   "metadata": {},
   "source": [
    "<h3 id=\"co\">4.3. Shallow copy and Deep Copy of lists</h3>"
   ]
  },
  {
   "cell_type": "code",
   "execution_count": 270,
   "metadata": {},
   "outputs": [
    {
     "name": "stdout",
     "output_type": "stream",
     "text": [
      "A: ['apple', 10, 1.2]\n",
      "B: ['apple', 10, 1.2]\n"
     ]
    }
   ],
   "source": [
    "# copy by reference \n",
    "# Using assignment operator\n",
    "A = [\"apple\", 10, 1.2]\n",
    "B = A\n",
    "print('A:', A)\n",
    "print('B:', B)"
   ]
  },
  {
   "cell_type": "markdown",
   "metadata": {},
   "source": [
    "<img src=\"copyByReference.png\" width=\"1000\" align=\"center\">"
   ]
  },
  {
   "cell_type": "markdown",
   "metadata": {},
   "source": [
    "Initially, the value of the first element in <b>B</b> is set as apple. If we change the first element in <b>A</b> to <b>banana</b>, we get an unexpected side effect.  As <b>A</b> and <b>B</b> are referencing the same list, if we change list <b>A</b>, then list <b>B</b> also changes. If we check the first element of <b>B</b> we get banana instead of apple."
   ]
  },
  {
   "cell_type": "code",
   "execution_count": 271,
   "metadata": {},
   "outputs": [
    {
     "name": "stdout",
     "output_type": "stream",
     "text": [
      "['banana', 10, 1.2]\n",
      "['banana', 10, 1.2]\n"
     ]
    }
   ],
   "source": [
    "A[0] = \"banana\"\n",
    "print(A)\n",
    "print(B)"
   ]
  },
  {
   "cell_type": "code",
   "execution_count": 272,
   "metadata": {},
   "outputs": [
    {
     "name": "stdout",
     "output_type": "stream",
     "text": [
      "1764162615304\n",
      "1764162615304\n"
     ]
    }
   ],
   "source": [
    "#if we the check id, we will come to understand that both are \n",
    "#refering to same object\n",
    "print(id(A))\n",
    "print(id(B))"
   ]
  },
  {
   "cell_type": "markdown",
   "metadata": {},
   "source": [
    "So with mutable objects we cannot use assignment operator, because if we modify one object it will affect the other. \n",
    "\n",
    "Assignment statements in Python do not copy objects, they create bindings between a target and an object. \n",
    "\n",
    "For collections that are mutable or contain mutable items, a copy is sometimes needed so that we can change the copy without changing the original object."
   ]
  },
  {
   "cell_type": "markdown",
   "metadata": {},
   "source": [
    "#### Shallow copy \n",
    "\n",
    "- Using copy.copy()\n",
    "- Using list.copy()\n",
    "- Using slicing"
   ]
  },
  {
   "cell_type": "code",
   "execution_count": 273,
   "metadata": {},
   "outputs": [
    {
     "name": "stdout",
     "output_type": "stream",
     "text": [
      "['apple', 10, 1.2]\n"
     ]
    }
   ],
   "source": [
    "#copy.copy() \n",
    "import copy\n",
    "A = [\"apple\", 10, 1.2]\n",
    "B = copy.copy(A)\n",
    "print(B)"
   ]
  },
  {
   "cell_type": "code",
   "execution_count": 274,
   "metadata": {},
   "outputs": [
    {
     "name": "stdout",
     "output_type": "stream",
     "text": [
      "['orange', 10, 1.2]\n",
      "['apple', 10, 1.2]\n"
     ]
    }
   ],
   "source": [
    "A[0] = \"orange\"\n",
    "print(A)\n",
    "print(B)"
   ]
  },
  {
   "cell_type": "code",
   "execution_count": 275,
   "metadata": {},
   "outputs": [
    {
     "name": "stdout",
     "output_type": "stream",
     "text": [
      "['apple', 10, 1.2]\n"
     ]
    }
   ],
   "source": [
    "#list.copy()\n",
    "A = [\"apple\", 10, 1.2]\n",
    "B = A.copy()\n",
    "print(B)"
   ]
  },
  {
   "cell_type": "code",
   "execution_count": 276,
   "metadata": {},
   "outputs": [
    {
     "name": "stdout",
     "output_type": "stream",
     "text": [
      "['orange', 10, 1.2]\n",
      "['apple', 10, 1.2]\n"
     ]
    }
   ],
   "source": [
    "A[0] = \"orange\"\n",
    "print(A)\n",
    "print(B)"
   ]
  },
  {
   "cell_type": "code",
   "execution_count": 277,
   "metadata": {},
   "outputs": [
    {
     "name": "stdout",
     "output_type": "stream",
     "text": [
      "['banana', 10, 1.2]\n",
      "['apple', 10, 1.2]\n",
      "1764162985736\n",
      "1764162934792\n"
     ]
    }
   ],
   "source": [
    "# using slicing\n",
    "A = [\"apple\", 10, 1.2]\n",
    "B = A[:]\n",
    "A[0] = \"banana\"\n",
    "print(A)\n",
    "print(B)\n",
    "print(id(A))\n",
    "print(id(B))"
   ]
  },
  {
   "cell_type": "markdown",
   "metadata": {},
   "source": [
    " Variable **B** references a new copy or clone of the original list, Now if we change <b>A</b>, <b>B</b> will not change: "
   ]
  },
  {
   "cell_type": "markdown",
   "metadata": {},
   "source": [
    "<img src=\"copyByValuer.png\" width=\"1000\" />"
   ]
  },
  {
   "cell_type": "markdown",
   "metadata": {},
   "source": [
    "A shallow copy means if we modify any of the nested list elements, changes are reflected in both the list as they point to the same reference. "
   ]
  },
  {
   "cell_type": "code",
   "execution_count": 263,
   "metadata": {},
   "outputs": [
    {
     "name": "stdout",
     "output_type": "stream",
     "text": [
      "['banana', 10, 1.2, [100, 2, 3, 4]]\n",
      "['apple', 10, 1.2, [100, 2, 3, 4]]\n",
      "1764162839048\n",
      "1764161867336\n"
     ]
    }
   ],
   "source": [
    "#changes in nested elements are reflected\n",
    "A = [\"apple\", 10, 1.2, [1,2,3,4]]\n",
    "B = A[:]\n",
    "A[0] = \"banana\"\n",
    "A[3][0] = 100\n",
    "print(A)\n",
    "print(B)\n",
    "print(id(A))\n",
    "print(id(B))"
   ]
  },
  {
   "cell_type": "markdown",
   "metadata": {},
   "source": [
    "Here we should use copy.deepcopy() from the copy module to avoid this problem."
   ]
  },
  {
   "cell_type": "markdown",
   "metadata": {},
   "source": [
    "#### Deep copy \n",
    "\n",
    "- Using copy.deepcopy()"
   ]
  },
  {
   "cell_type": "code",
   "execution_count": 250,
   "metadata": {},
   "outputs": [
    {
     "name": "stdout",
     "output_type": "stream",
     "text": [
      "['banana', 10, 1.2, [100, 2, 3, 4]]\n",
      "['apple', 10, 1.2, [1, 2, 3, 4]]\n"
     ]
    }
   ],
   "source": [
    "#changes in nested elements are not reflected\n",
    "A = [\"apple\", 10, 1.2, [1,2,3,4]]\n",
    "B = copy.deepcopy(A)\n",
    "A[0] = \"banana\"\n",
    "A[3][0] = 100\n",
    "print(A)\n",
    "print(B)"
   ]
  },
  {
   "cell_type": "markdown",
   "metadata": {},
   "source": [
    "<h3 id=\"op\">4.4. Indexing and Slicing</h3>"
   ]
  },
  {
   "cell_type": "markdown",
   "metadata": {},
   "source": [
    "#### Indexing"
   ]
  },
  {
   "cell_type": "markdown",
   "metadata": {},
   "source": [
    "Like tuples, lists are also ordered sequence. Each element in a list can be accessed using an index. "
   ]
  },
  {
   "cell_type": "markdown",
   "metadata": {
    "scrolled": true
   },
   "source": [
    "Indexing for other Sequential Types\n",
    "Read-only indexing operations work perfectly well for all sequential types. But assignment and deletion operations are not applicable to immutable sequential types."
   ]
  },
  {
   "cell_type": "markdown",
   "metadata": {},
   "source": [
    "#### Accessing individual elements of list."
   ]
  },
  {
   "cell_type": "code",
   "execution_count": 278,
   "metadata": {},
   "outputs": [
    {
     "name": "stdout",
     "output_type": "stream",
     "text": [
      "True\n"
     ]
    }
   ],
   "source": [
    "#            0   1   2   3         4\n",
    "mixedList = [1, 1.4, 3, True, \"Data Science\"]\n",
    "#           -5  -4   -3  -2       -1\n",
    "\n",
    "# Printing 4th element ie) element at index 3\n",
    "\n",
    "print(mixedList[3])"
   ]
  },
  {
   "cell_type": "markdown",
   "metadata": {},
   "source": [
    "#### negative indexing"
   ]
  },
  {
   "cell_type": "code",
   "execution_count": 98,
   "metadata": {},
   "outputs": [
    {
     "name": "stdout",
     "output_type": "stream",
     "text": [
      "True\n"
     ]
    }
   ],
   "source": [
    "print(mixedList[-2])"
   ]
  },
  {
   "cell_type": "markdown",
   "metadata": {},
   "source": [
    "#### Locate an element"
   ]
  },
  {
   "cell_type": "code",
   "execution_count": 104,
   "metadata": {},
   "outputs": [
    {
     "name": "stdout",
     "output_type": "stream",
     "text": [
      "4\n"
     ]
    }
   ],
   "source": [
    "sub = mixedList.index(\"Data Science\") \n",
    "#searches from the beginnig of the list and returns the index\n",
    "print(sub)"
   ]
  },
  {
   "cell_type": "markdown",
   "metadata": {},
   "source": [
    "As we already discussed about indexing and slicing in detail with strings in Tutorial 2, i dont go in detail here. Please check the link in the description box to know more on indexing."
   ]
  },
  {
   "cell_type": "markdown",
   "metadata": {},
   "source": [
    "#### Slicing\n",
    "Indexing allows us to access/change/delete only a single element of a list.\n",
    "\n",
    "To get a sublist of the list, Or if we want to update a set of elements at once, we use slicing."
   ]
  },
  {
   "cell_type": "code",
   "execution_count": 32,
   "metadata": {},
   "outputs": [
    {
     "data": {
      "text/plain": [
       "['Michael Jackson', 10.1, 1982, 'MJ', 1]"
      ]
     },
     "execution_count": 32,
     "metadata": {},
     "output_type": "execute_result"
    }
   ],
   "source": [
    "L = [\"Michael Jackson\", 10.1,1982,\"MJ\",1]\n",
    "L"
   ]
  },
  {
   "cell_type": "code",
   "execution_count": 38,
   "metadata": {},
   "outputs": [
    {
     "data": {
      "text/plain": [
       "['MJ', 1]"
      ]
     },
     "execution_count": 38,
     "metadata": {},
     "output_type": "execute_result"
    }
   ],
   "source": [
    "# List slicing\n",
    "#start index 3 and slice upto 5 but not 5.\n",
    "L[3:5]"
   ]
  },
  {
   "cell_type": "code",
   "execution_count": 279,
   "metadata": {},
   "outputs": [],
   "source": [
    "#      0  1  2  3  4  5  6  7\n",
    "nl = [0, 1, 1, 2, 3, 5, 8, 13]\n",
    "#     -1 -2 -3 -4 -5 -6 -7  -8"
   ]
  },
  {
   "cell_type": "code",
   "execution_count": 47,
   "metadata": {},
   "outputs": [
    {
     "name": "stdout",
     "output_type": "stream",
     "text": [
      "[1, 2, 3, 5]\n"
     ]
    }
   ],
   "source": [
    "l1 = nl[2:6]\n",
    "print(l1)"
   ]
  },
  {
   "cell_type": "code",
   "execution_count": 48,
   "metadata": {},
   "outputs": [
    {
     "name": "stdout",
     "output_type": "stream",
     "text": [
      "[5, 8, 13]\n"
     ]
    }
   ],
   "source": [
    "l2 = nl[5:]\n",
    "print(l2)"
   ]
  },
  {
   "cell_type": "code",
   "execution_count": 49,
   "metadata": {},
   "outputs": [
    {
     "name": "stdout",
     "output_type": "stream",
     "text": [
      "[1, 2, 3, 5]\n"
     ]
    }
   ],
   "source": [
    "l3 = nl[-6:-2]\n",
    "print(l3)"
   ]
  },
  {
   "cell_type": "code",
   "execution_count": 280,
   "metadata": {},
   "outputs": [
    {
     "name": "stdout",
     "output_type": "stream",
     "text": [
      "[5, 8, 13]\n"
     ]
    }
   ],
   "source": [
    "l4 = nl[5:20]\n",
    "print(l4)"
   ]
  },
  {
   "cell_type": "code",
   "execution_count": 281,
   "metadata": {
    "scrolled": true
   },
   "outputs": [
    {
     "ename": "IndexError",
     "evalue": "list index out of range",
     "output_type": "error",
     "traceback": [
      "\u001b[1;31m---------------------------------------------------------------------------\u001b[0m",
      "\u001b[1;31mIndexError\u001b[0m                                Traceback (most recent call last)",
      "\u001b[1;32m<ipython-input-281-753444aabf8f>\u001b[0m in \u001b[0;36m<module>\u001b[1;34m\u001b[0m\n\u001b[1;32m----> 1\u001b[1;33m \u001b[0mprint\u001b[0m\u001b[1;33m(\u001b[0m\u001b[0mnl\u001b[0m\u001b[1;33m[\u001b[0m\u001b[1;36m20\u001b[0m\u001b[1;33m]\u001b[0m\u001b[1;33m)\u001b[0m\u001b[1;33m\u001b[0m\u001b[1;33m\u001b[0m\u001b[0m\n\u001b[0m",
      "\u001b[1;31mIndexError\u001b[0m: list index out of range"
     ]
    }
   ],
   "source": [
    "print(nl[20])"
   ]
  },
  {
   "cell_type": "markdown",
   "metadata": {},
   "source": [
    "As we already discussed about indexing and slicing in detail with strings in Tutorial 2, i dont go in detail here. Please check the link in the description box to know more on indexing."
   ]
  },
  {
   "cell_type": "markdown",
   "metadata": {},
   "source": [
    "<h3 id=\"op\">4.5. Methods and functions</h3>"
   ]
  },
  {
   "cell_type": "markdown",
   "metadata": {},
   "source": [
    "#### Extend"
   ]
  },
  {
   "cell_type": "markdown",
   "metadata": {},
   "source": [
    "We can use the method <code>extend</code> to add new elements to the list:"
   ]
  },
  {
   "cell_type": "code",
   "execution_count": 282,
   "metadata": {},
   "outputs": [
    {
     "name": "stdout",
     "output_type": "stream",
     "text": [
      "[1, 2, 3, 'Hyderabad', 'Mumbai', 'Delhi', 'Bengaluru']\n",
      "['Hyderabad', 'Mumbai', 'Delhi', 'Bengaluru']\n"
     ]
    }
   ],
   "source": [
    "a = [1,2,3]\n",
    "b = ['Hyderabad', 'Mumbai', 'Delhi', 'Bengaluru']\n",
    "a.extend(b)\n",
    "print(a)\n",
    "print(b)"
   ]
  },
  {
   "cell_type": "code",
   "execution_count": 283,
   "metadata": {},
   "outputs": [
    {
     "data": {
      "text/plain": [
       "['apple', 10.2, 'red', 10]"
      ]
     },
     "execution_count": 283,
     "metadata": {},
     "output_type": "execute_result"
    }
   ],
   "source": [
    "lst = [ \"apple\", 10.2]\n",
    "lst.extend(['red', 10])\n",
    "lst"
   ]
  },
  {
   "cell_type": "code",
   "execution_count": 284,
   "metadata": {},
   "outputs": [
    {
     "name": "stdout",
     "output_type": "stream",
     "text": [
      "['apple', 10.2, '10', '20', '30']\n"
     ]
    }
   ],
   "source": [
    "#extend tuple\n",
    "lst = [ \"apple\", 10.2]\n",
    "tup = (\"10\", \"20\", \"30\")\n",
    "lst.extend(tup)\n",
    "print(lst)"
   ]
  },
  {
   "cell_type": "code",
   "execution_count": 204,
   "metadata": {},
   "outputs": [
    {
     "name": "stdout",
     "output_type": "stream",
     "text": [
      "[10, 12, 13, 17]\n",
      "[30, 10, 12, 13, 17]\n",
      "[40, 50, 30, 10, 12, 13, 17]\n"
     ]
    }
   ],
   "source": [
    "# Extend a list using 'slicing'  \n",
    "  a =[10, 12, 13, 17]  \n",
    "print(a)   \n",
    "# add 1 element \n",
    "a[:0] = [30] \n",
    "print(a)   \n",
    "# add two elements \n",
    "a[:0] = [40, 50] \n",
    "print(a) \n"
   ]
  },
  {
   "cell_type": "code",
   "execution_count": 205,
   "metadata": {},
   "outputs": [
    {
     "name": "stdout",
     "output_type": "stream",
     "text": [
      "[40, 50, 30, 10, 12, 13, 17]\n",
      "[3000, 4000, 12, 13, 17]\n"
     ]
    }
   ],
   "source": [
    "#let us understand how slice works in index 4\n",
    "print(a)\n",
    "a[:4] = [3000, 4000] \n",
    "print(a) "
   ]
  },
  {
   "cell_type": "code",
   "execution_count": 206,
   "metadata": {},
   "outputs": [
    {
     "name": "stdout",
     "output_type": "stream",
     "text": [
      "[1, 2, 3]\n",
      "['a', 'b', 'c']\n",
      "[1, 2, 3, 'a', 'b', 'c']\n"
     ]
    }
   ],
   "source": [
    "# Extend a list using '+'  \n",
    "a = [1,2,3]\n",
    "b = ['a','b','c']\n",
    "print(a)\n",
    "print(b)\n",
    "c = a + b\n",
    "print(c)"
   ]
  },
  {
   "cell_type": "code",
   "execution_count": 207,
   "metadata": {},
   "outputs": [
    {
     "name": "stdout",
     "output_type": "stream",
     "text": [
      "[1, 2, 3, 'a', 'b', 'c']\n"
     ]
    }
   ],
   "source": [
    "a += b\n",
    "print(a)"
   ]
  },
  {
   "cell_type": "code",
   "execution_count": 188,
   "metadata": {},
   "outputs": [
    {
     "name": "stdout",
     "output_type": "stream",
     "text": [
      "[1, 2, 3, 'a', 'b', 'c', 'd']\n"
     ]
    }
   ],
   "source": [
    "#extend string\n",
    "a = [1, 2, 3]\n",
    "a.extend('abcd')\n",
    "print(a)"
   ]
  },
  {
   "cell_type": "markdown",
   "metadata": {},
   "source": [
    "#### Append"
   ]
  },
  {
   "cell_type": "code",
   "execution_count": null,
   "metadata": {},
   "outputs": [],
   "source": [
    "# we can also use append to add element to a alist"
   ]
  },
  {
   "cell_type": "code",
   "execution_count": 168,
   "metadata": {},
   "outputs": [
    {
     "name": "stdout",
     "output_type": "stream",
     "text": [
      "['apple', 'orange', 10]\n"
     ]
    }
   ],
   "source": [
    "# Adding elements to the list\n",
    "fruits = []\n",
    "fruits.append(\"apple\") # 0\n",
    "fruits.append(\"orange\") # 1\n",
    "fruits.append(10)\n",
    "print(fruits)"
   ]
  },
  {
   "cell_type": "code",
   "execution_count": 189,
   "metadata": {},
   "outputs": [
    {
     "data": {
      "text/plain": [
       "['apple', 10.2, ['red', 10]]"
      ]
     },
     "execution_count": 189,
     "metadata": {},
     "output_type": "execute_result"
    }
   ],
   "source": [
    "# appending a list of elements\n",
    "\n",
    "L = [ \"apple\", 10.2]\n",
    "L.append(['red', 10])\n",
    "L"
   ]
  },
  {
   "cell_type": "code",
   "execution_count": 190,
   "metadata": {},
   "outputs": [
    {
     "name": "stdout",
     "output_type": "stream",
     "text": [
      "['apple', 10.2, ('10', '20', '30')]\n"
     ]
    }
   ],
   "source": [
    "# appending a tuple\n",
    "L = [ \"apple\", 10.2]\n",
    "tup = (\"10\", \"20\", \"30\")\n",
    "L.append(tup)\n",
    "print(L)"
   ]
  },
  {
   "cell_type": "markdown",
   "metadata": {},
   "source": [
    "The new list/tuple appended as one element contains nested list where as in extend it is added along with other elemets."
   ]
  },
  {
   "cell_type": "markdown",
   "metadata": {},
   "source": [
    "#### Insert"
   ]
  },
  {
   "cell_type": "code",
   "execution_count": 124,
   "metadata": {},
   "outputs": [],
   "source": [
    "fruits = [\"apple\", \"orange\"]"
   ]
  },
  {
   "cell_type": "code",
   "execution_count": 125,
   "metadata": {},
   "outputs": [
    {
     "name": "stdout",
     "output_type": "stream",
     "text": [
      "['apple', 'mango', 'orange']\n"
     ]
    }
   ],
   "source": [
    "# Inserting elements with index\n",
    "fruits.insert(1, \"mango\")\n",
    "print(fruits)"
   ]
  },
  {
   "cell_type": "code",
   "execution_count": 126,
   "metadata": {},
   "outputs": [
    {
     "name": "stdout",
     "output_type": "stream",
     "text": [
      "['apple', 'mango', 'banana', 'orange']\n"
     ]
    }
   ],
   "source": [
    "# Add an element at location one before the last one\n",
    "fruits.insert(len(fruits)-1, \"banana\")\n",
    "print(fruits)"
   ]
  },
  {
   "cell_type": "code",
   "execution_count": 127,
   "metadata": {},
   "outputs": [
    {
     "name": "stdout",
     "output_type": "stream",
     "text": [
      "['apple', 'mango', 'banana', 'orange', 'kiwi']\n"
     ]
    }
   ],
   "source": [
    "# Insert an element at the end\n",
    "fruits.insert(len(fruits), \"kiwi\")\n",
    "print(fruits)"
   ]
  },
  {
   "cell_type": "code",
   "execution_count": 129,
   "metadata": {},
   "outputs": [
    {
     "name": "stdout",
     "output_type": "stream",
     "text": [
      "True\n",
      "False\n"
     ]
    }
   ],
   "source": [
    "# Checking if any element exists in the list\n",
    "print(\"mango\" in fruits)\n",
    "print(\"mango\" not in fruits)"
   ]
  },
  {
   "cell_type": "markdown",
   "metadata": {},
   "source": [
    "#### Updating elements"
   ]
  },
  {
   "cell_type": "code",
   "execution_count": 130,
   "metadata": {},
   "outputs": [],
   "source": [
    "# we already discussed that we can change the elements of list."
   ]
  },
  {
   "cell_type": "code",
   "execution_count": 146,
   "metadata": {},
   "outputs": [
    {
     "name": "stdout",
     "output_type": "stream",
     "text": [
      "['apple', 10, 1.2]\n"
     ]
    }
   ],
   "source": [
    "A = [\"apple\", 10, 1.2]\n",
    "print(A)"
   ]
  },
  {
   "cell_type": "code",
   "execution_count": 147,
   "metadata": {},
   "outputs": [
    {
     "name": "stdout",
     "output_type": "stream",
     "text": [
      "['Orange', 10, 1.2]\n"
     ]
    }
   ],
   "source": [
    "A[0] = 'Orange'\n",
    "print(A)"
   ]
  },
  {
   "cell_type": "markdown",
   "metadata": {},
   "source": [
    "#### Delete"
   ]
  },
  {
   "cell_type": "markdown",
   "metadata": {},
   "source": [
    " We can also delete an element of a list using the <code>del</code> command:"
   ]
  },
  {
   "cell_type": "code",
   "execution_count": 149,
   "metadata": {},
   "outputs": [
    {
     "name": "stdout",
     "output_type": "stream",
     "text": [
      "['apple', 10, 1.2]\n",
      "[10, 1.2]\n"
     ]
    }
   ],
   "source": [
    "# Delete the element based on the index\n",
    "A = [\"apple\", 10, 1.2]\n",
    "print(A)\n",
    "del(A[0])\n",
    "print(A)"
   ]
  },
  {
   "cell_type": "markdown",
   "metadata": {},
   "source": [
    "#### Remove"
   ]
  },
  {
   "cell_type": "code",
   "execution_count": 154,
   "metadata": {},
   "outputs": [
    {
     "name": "stdout",
     "output_type": "stream",
     "text": [
      "['apple', 'mango']\n"
     ]
    }
   ],
   "source": [
    "# Removing elments from the list\n",
    "fruits = [\"apple\", \"orange\", \"mango\"]\n",
    "fruits.remove(\"orange\")\n",
    "print(fruits)"
   ]
  },
  {
   "cell_type": "markdown",
   "metadata": {},
   "source": [
    "#### Pop"
   ]
  },
  {
   "cell_type": "code",
   "execution_count": 285,
   "metadata": {},
   "outputs": [
    {
     "name": "stdout",
     "output_type": "stream",
     "text": [
      "Fruit popped is  mango\n",
      "['apple', 'orange']\n"
     ]
    }
   ],
   "source": [
    "# Removing elements using pop()\n",
    "# removes elements at a particular index\n",
    "# here we can get the popped element\n",
    "fruits = [\"apple\", \"orange\", \"mango\"]\n",
    "x = fruits.pop(len(fruits)-1)\n",
    "print(\"Fruit popped is \", x)\n",
    "print(fruits)"
   ]
  },
  {
   "cell_type": "markdown",
   "metadata": {},
   "source": [
    "#### Removing an element using del statement"
   ]
  },
  {
   "cell_type": "code",
   "execution_count": 157,
   "metadata": {},
   "outputs": [
    {
     "name": "stdout",
     "output_type": "stream",
     "text": [
      "['apple', 'mango']\n"
     ]
    }
   ],
   "source": [
    "fruits = [\"apple\", \"orange\", \"mango\"]\n",
    "del fruits[1]\n",
    "print(fruits)"
   ]
  },
  {
   "cell_type": "markdown",
   "metadata": {},
   "source": [
    "#### String to list"
   ]
  },
  {
   "cell_type": "markdown",
   "metadata": {},
   "source": [
    "We can convert a string to a list using <code>split</code>.  For example, the method <code>split</code> converts every word separated by a space into an element in a list:"
   ]
  },
  {
   "cell_type": "code",
   "execution_count": 158,
   "metadata": {},
   "outputs": [
    {
     "data": {
      "text/plain": [
       "['data', 'science']"
      ]
     },
     "execution_count": 158,
     "metadata": {},
     "output_type": "execute_result"
    }
   ],
   "source": [
    "# Split the string, default is by space\n",
    "\n",
    "'data science'.split()"
   ]
  },
  {
   "cell_type": "markdown",
   "metadata": {},
   "source": [
    "We can use the split function to separate strings on a specific character.\n",
    "\n",
    "We pass the character we would like to split on into the argument, in this case is a comma.  \n",
    "\n",
    "The result is a list."
   ]
  },
  {
   "cell_type": "code",
   "execution_count": 162,
   "metadata": {},
   "outputs": [
    {
     "data": {
      "text/plain": [
       "['A', 'B', 'C', 'D ererer']"
      ]
     },
     "execution_count": 162,
     "metadata": {},
     "output_type": "execute_result"
    }
   ],
   "source": [
    "# Split the string by comma\n",
    "\n",
    "'A,B,C,D ererer'.split(',')"
   ]
  },
  {
   "cell_type": "markdown",
   "metadata": {},
   "source": [
    "#### Sorted function"
   ]
  },
  {
   "cell_type": "code",
   "execution_count": 208,
   "metadata": {},
   "outputs": [],
   "source": [
    "list = [\"red\", \"green\", \"blue\", \"orange\"]\n",
    "tuple = (1, 10, 50, 60, 20, 40, 17)\n",
    "string = \"abcdnduhkjljsdqrtcfgv\""
   ]
  },
  {
   "cell_type": "code",
   "execution_count": 209,
   "metadata": {},
   "outputs": [
    {
     "name": "stdout",
     "output_type": "stream",
     "text": [
      "['blue', 'green', 'orange', 'red']\n",
      "[1, 10, 17, 20, 40, 50, 60]\n",
      "['a', 'b', 'c', 'c', 'd', 'd', 'd', 'f', 'g', 'h', 'j', 'j', 'k', 'l', 'n', 'q', 'r', 's', 't', 'u', 'v']\n"
     ]
    }
   ],
   "source": [
    "s1 = sorted(list)\n",
    "s2 = sorted(tuple)\n",
    "s3 = sorted(string)\n",
    "print(s1)\n",
    "print(s2)\n",
    "print(s3)"
   ]
  },
  {
   "cell_type": "markdown",
   "metadata": {},
   "source": [
    "#### Sort method"
   ]
  },
  {
   "cell_type": "code",
   "execution_count": 215,
   "metadata": {},
   "outputs": [
    {
     "name": "stdout",
     "output_type": "stream",
     "text": [
      "['f', 'n', 's', 't']\n"
     ]
    }
   ],
   "source": [
    "#sorting elements of a list\n",
    "b = ['s', 't', 'f', 'n']\n",
    "b.sort() # By default ascending order\n",
    "print(b)"
   ]
  },
  {
   "cell_type": "code",
   "execution_count": 216,
   "metadata": {},
   "outputs": [
    {
     "name": "stdout",
     "output_type": "stream",
     "text": [
      "['t', 's', 'n', 'f']\n"
     ]
    }
   ],
   "source": [
    "b.sort(reverse=True)\n",
    "print(b)"
   ]
  },
  {
   "cell_type": "code",
   "execution_count": 217,
   "metadata": {},
   "outputs": [
    {
     "name": "stdout",
     "output_type": "stream",
     "text": [
      "[10, 9, 8, 7, 6, 5, 4, 3, 2, 1]\n"
     ]
    }
   ],
   "source": [
    "# reverse() funcion reverses the orignal order, if the list is in a particular order\n",
    "c = [1, 2, 3, 4, 5, 6, 7, 8, 9, 10]\n",
    "c.reverse()\n",
    "print(c)"
   ]
  },
  {
   "cell_type": "markdown",
   "metadata": {},
   "source": [
    "#### min, max, sum functions"
   ]
  },
  {
   "cell_type": "code",
   "execution_count": 27,
   "metadata": {},
   "outputs": [
    {
     "name": "stdout",
     "output_type": "stream",
     "text": [
      "blue\n",
      "1\n",
      "a\n"
     ]
    }
   ],
   "source": [
    "s1 = min(list)\n",
    "s2 = min(tuple)\n",
    "s3 = min(string)\n",
    "print(s1)\n",
    "print(s2)\n",
    "print(s3)"
   ]
  },
  {
   "cell_type": "code",
   "execution_count": 30,
   "metadata": {},
   "outputs": [
    {
     "name": "stdout",
     "output_type": "stream",
     "text": [
      "red\n",
      "60\n",
      "v\n"
     ]
    }
   ],
   "source": [
    "s1 = max(list)\n",
    "s2 = max(tuple)\n",
    "s3 = max(string)\n",
    "print(s1)\n",
    "print(s2)\n",
    "print(s3)"
   ]
  },
  {
   "cell_type": "code",
   "execution_count": 32,
   "metadata": {},
   "outputs": [
    {
     "name": "stdout",
     "output_type": "stream",
     "text": [
      "198\n"
     ]
    }
   ],
   "source": [
    "#s1 = sum(list)\n",
    "s2 = sum(tuple)\n",
    "#s3 = sum(string)\n",
    "#print(s1)\n",
    "print(s2)\n",
    "#print(s3)"
   ]
  },
  {
   "cell_type": "markdown",
   "metadata": {},
   "source": [
    "#### Immutable elements in list"
   ]
  },
  {
   "cell_type": "markdown",
   "metadata": {},
   "source": [
    "Like tuple, list can contain another list, tuple as well as other data types. We discussed about nested tuples in last video, same applicable to list too"
   ]
  },
  {
   "cell_type": "markdown",
   "metadata": {},
   "source": [
    "We know lists are changabl;e, However, immutable elements like tuples and strings in the list cannot be changed.\n",
    "\n",
    "Let us understand with exapmles."
   ]
  },
  {
   "cell_type": "code",
   "execution_count": 252,
   "metadata": {},
   "outputs": [
    {
     "data": {
      "text/plain": [
       "[10, 12.5, 'data', (2, 4, 6), True]"
      ]
     },
     "execution_count": 252,
     "metadata": {},
     "output_type": "execute_result"
    }
   ],
   "source": [
    "myList = [10, 12.5, \"data\", (2,4,6), True] \n",
    "#list with diff data\n",
    "myList"
   ]
  },
  {
   "cell_type": "code",
   "execution_count": 257,
   "metadata": {
    "scrolled": true
   },
   "outputs": [
    {
     "name": "stdout",
     "output_type": "stream",
     "text": [
      "[20, 'python', 'dataaa', (2, 4, 6), True]\n"
     ]
    }
   ],
   "source": [
    "myList[0] = 20 # trying to change the int value 10 at index 0\n",
    "print(myList)"
   ]
  },
  {
   "cell_type": "code",
   "execution_count": 258,
   "metadata": {},
   "outputs": [
    {
     "data": {
      "text/plain": [
       "[20, 'python', 'dataaa', (2, 4, 6), True]"
      ]
     },
     "execution_count": 258,
     "metadata": {},
     "output_type": "execute_result"
    }
   ],
   "source": [
    "myList[1] = \"python\" # trying to change the float value 12.5 at index 1\n",
    "myList"
   ]
  },
  {
   "cell_type": "code",
   "execution_count": 259,
   "metadata": {},
   "outputs": [
    {
     "data": {
      "text/plain": [
       "[20, 'python', 'dataaa', (2, 4, 6), True]"
      ]
     },
     "execution_count": 259,
     "metadata": {},
     "output_type": "execute_result"
    }
   ],
   "source": [
    "myList[2] = \"dataaa\" # trying to change the string value data at index 2\n",
    "myList"
   ]
  },
  {
   "cell_type": "code",
   "execution_count": 260,
   "metadata": {},
   "outputs": [
    {
     "ename": "TypeError",
     "evalue": "'tuple' object does not support item assignment",
     "output_type": "error",
     "traceback": [
      "\u001b[1;31m---------------------------------------------------------------------------\u001b[0m",
      "\u001b[1;31mTypeError\u001b[0m                                 Traceback (most recent call last)",
      "\u001b[1;32m<ipython-input-260-f17600708710>\u001b[0m in \u001b[0;36m<module>\u001b[1;34m\u001b[0m\n\u001b[1;32m----> 1\u001b[1;33m \u001b[0mmyList\u001b[0m\u001b[1;33m[\u001b[0m\u001b[1;36m3\u001b[0m\u001b[1;33m]\u001b[0m\u001b[1;33m[\u001b[0m\u001b[1;36m1\u001b[0m\u001b[1;33m]\u001b[0m \u001b[1;33m=\u001b[0m \u001b[1;34m\"22222\"\u001b[0m \u001b[1;31m#changing the item in the list\u001b[0m\u001b[1;33m\u001b[0m\u001b[1;33m\u001b[0m\u001b[0m\n\u001b[0m\u001b[0;32m      2\u001b[0m \u001b[0mmyList\u001b[0m\u001b[1;33m\u001b[0m\u001b[1;33m\u001b[0m\u001b[0m\n",
      "\u001b[1;31mTypeError\u001b[0m: 'tuple' object does not support item assignment"
     ]
    }
   ],
   "source": [
    "myList[3][1] = \"22222\" #changing the item in the list\n",
    "myList"
   ]
  },
  {
   "cell_type": "markdown",
   "metadata": {},
   "source": [
    "Thankyou"
   ]
  }
 ],
 "metadata": {
  "kernelspec": {
   "display_name": "Python 3",
   "language": "python",
   "name": "python3"
  },
  "language_info": {
   "codemirror_mode": {
    "name": "ipython",
    "version": 3
   },
   "file_extension": ".py",
   "mimetype": "text/x-python",
   "name": "python",
   "nbconvert_exporter": "python",
   "pygments_lexer": "ipython3",
   "version": "3.7.6"
  }
 },
 "nbformat": 4,
 "nbformat_minor": 4
}
