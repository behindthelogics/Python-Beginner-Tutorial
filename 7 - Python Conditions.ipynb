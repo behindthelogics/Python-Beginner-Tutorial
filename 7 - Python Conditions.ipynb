{
 "cells": [
  {
   "cell_type": "markdown",
   "metadata": {},
   "source": [
    "<h1>Conditions in Python</h1>"
   ]
  },
  {
   "cell_type": "markdown",
   "metadata": {},
   "source": [
    "<p><strong>Hello! Everyone, Welcome to Python Tutorial 7</strong> In this video we will discuss about condition statements in Python Programming Language.\n",
    "    \n",
    "We will discuss in detail about how to use the condition statements in Python, including operators, and branching.</p> "
   ]
  },
  {
   "cell_type": "markdown",
   "metadata": {},
   "source": [
    "Everything we have seen so far upto last video in this tutorial, consist of sequential execution of the program, ie) statements are executed one after other.\n",
    "\n",
    "But in practical scenariao a program needs to skip over some statements, execute a series of statements repetitively, or choose between alternate sets of statements to execute.\n",
    "\n",
    "A control structure directs the flow of control through any program.\n",
    "\n",
    "Three basic types of control structures are: \n",
    "\n",
    "Sequential, Selection and Repetition or iteration.\n",
    "\n",
    "Below image explains the three types."
   ]
  },
  {
   "cell_type": "markdown",
   "metadata": {},
   "source": [
    "<img src = \"control.png\"/>"
   ]
  },
  {
   "cell_type": "markdown",
   "metadata": {},
   "source": [
    "#### Sequence structure\n",
    "\n",
    "In sequential execution statements are executed one after another.\n",
    "\n",
    "#### Selection structure\n",
    "\n",
    "A block of one or more statements will be executed depending on the expression is true or false.\n",
    "\n",
    "It is used for decision making and branching (choosing between 2 or more alternative paths) in a program.\n",
    "\n",
    "\n",
    "#### Repetition structure\n",
    "\n",
    "A block of one or more statements will be repetitively executed as long as a certain expression is true\n",
    "\n",
    "Repetition used for looping (repeating a piece of code multiple times in a row).\n",
    "\n",
    "while loop\n",
    "do..while loop\n",
    "for loop"
   ]
  },
  {
   "cell_type": "markdown",
   "metadata": {},
   "source": [
    "In this video we are discussing the decision control structures \n",
    "\n",
    "ie) if, else, elif statements in Python. \n",
    "\n",
    "The comparison and logical operators are useful in controlling flow of the program."
   ]
  },
  {
   "cell_type": "markdown",
   "metadata": {},
   "source": [
    "Lets start with comparision operators"
   ]
  },
  {
   "cell_type": "markdown",
   "metadata": {},
   "source": [
    "<h3 id=\"comp\">Comparison Operators and boolean expressions</h3>"
   ]
  },
  {
   "cell_type": "markdown",
   "metadata": {},
   "source": [
    "Comparison operations compare operands and based on a given condition, they results in a Boolean outcome (ie) true or false). \n",
    "\n",
    "They also called Relational operators. \n",
    "\n",
    "When we use relational operations in a expression , they are called boolean expressions\n",
    "\n",
    "<ul>\n",
    "    <li>equal: <b>==</b></li>\n",
    "    <li>not equal: <b>!=</b></li>\n",
    "    <li>greater than: <b>></b></li>\n",
    "    <li>less than: <b>&lt;</b></li>\n",
    "    <li>greater than or equal to: <b>>=</b></li>\n",
    "    <li>less than or equal to: <b>&lt;=</b></li>\n",
    "</ul>"
   ]
  },
  {
   "cell_type": "markdown",
   "metadata": {},
   "source": [
    "The code below first assigns the variable<code>a</code> with a value of 10, then it compares the variable <code>a</code> with 6. "
   ]
  },
  {
   "cell_type": "code",
   "execution_count": 5,
   "metadata": {
    "jupyter": {
     "outputs_hidden": false
    }
   },
   "outputs": [
    {
     "data": {
      "text/plain": [
       "False"
      ]
     },
     "execution_count": 5,
     "metadata": {},
     "output_type": "execute_result"
    }
   ],
   "source": [
    "#equality operator\n",
    "a = 10\n",
    "a == 6"
   ]
  },
  {
   "cell_type": "markdown",
   "metadata": {},
   "source": [
    "The result is <b>False</b>, as 10 does not equal to 6."
   ]
  },
  {
   "cell_type": "markdown",
   "metadata": {},
   "source": [
    "Please make note that we used assignent operator (<b>=</b> sign) to assign a value and the equality operator <b>==</b> signs to determine if two values are equal."
   ]
  },
  {
   "cell_type": "code",
   "execution_count": 60,
   "metadata": {},
   "outputs": [
    {
     "name": "stdout",
     "output_type": "stream",
     "text": [
      "False\n"
     ]
    }
   ],
   "source": [
    "#another example\n",
    "num1 = 5\n",
    "num2 = 8\n",
    "\n",
    "print(num1 == num2)"
   ]
  },
  {
   "cell_type": "code",
   "execution_count": 10,
   "metadata": {
    "jupyter": {
     "outputs_hidden": false
    }
   },
   "outputs": [
    {
     "data": {
      "text/plain": [
       "True"
      ]
     },
     "execution_count": 10,
     "metadata": {},
     "output_type": "execute_result"
    }
   ],
   "source": [
    "# Greater than Sign\n",
    "a = 12\n",
    "a > 10"
   ]
  },
  {
   "cell_type": "code",
   "execution_count": 61,
   "metadata": {
    "jupyter": {
     "outputs_hidden": false
    }
   },
   "outputs": [
    {
     "data": {
      "text/plain": [
       "False"
      ]
     },
     "execution_count": 61,
     "metadata": {},
     "output_type": "execute_result"
    }
   ],
   "source": [
    "# Greater than Sign\n",
    "\n",
    "a = 2\n",
    "a > 10"
   ]
  },
  {
   "cell_type": "code",
   "execution_count": 62,
   "metadata": {},
   "outputs": [
    {
     "name": "stdout",
     "output_type": "stream",
     "text": [
      "False\n"
     ]
    }
   ],
   "source": [
    "#another example\n",
    "num1 = 5\n",
    "num2 = 8\n",
    "print(num1 > num2)"
   ]
  },
  {
   "cell_type": "code",
   "execution_count": 63,
   "metadata": {},
   "outputs": [
    {
     "name": "stdout",
     "output_type": "stream",
     "text": [
      "True\n"
     ]
    }
   ],
   "source": [
    "print(num1 < num2)"
   ]
  },
  {
   "cell_type": "code",
   "execution_count": 65,
   "metadata": {
    "jupyter": {
     "outputs_hidden": false
    }
   },
   "outputs": [
    {
     "data": {
      "text/plain": [
       "True"
      ]
     },
     "execution_count": 65,
     "metadata": {},
     "output_type": "execute_result"
    }
   ],
   "source": [
    "# Inequality operator\n",
    "b = 2+3\n",
    "b != 6"
   ]
  },
  {
   "cell_type": "code",
   "execution_count": 66,
   "metadata": {
    "jupyter": {
     "outputs_hidden": false
    }
   },
   "outputs": [
    {
     "data": {
      "text/plain": [
       "False"
      ]
     },
     "execution_count": 66,
     "metadata": {},
     "output_type": "execute_result"
    }
   ],
   "source": [
    "# Inequality operator\n",
    "\n",
    "b = 3+3\n",
    "b != 6"
   ]
  },
  {
   "cell_type": "markdown",
   "metadata": {},
   "source": [
    " We can apply the same methods on strings also. "
   ]
  },
  {
   "cell_type": "code",
   "execution_count": 69,
   "metadata": {
    "jupyter": {
     "outputs_hidden": false
    }
   },
   "outputs": [
    {
     "data": {
      "text/plain": [
       "False"
      ]
     },
     "execution_count": 69,
     "metadata": {},
     "output_type": "execute_result"
    }
   ],
   "source": [
    "# Use Equality sign to compare the strings\n",
    "\n",
    "\"TEST\" == \"Michael Jackson\""
   ]
  },
  {
   "cell_type": "code",
   "execution_count": 70,
   "metadata": {},
   "outputs": [
    {
     "name": "stdout",
     "output_type": "stream",
     "text": [
      "True\n"
     ]
    }
   ],
   "source": [
    "string1 = \"WELCOME\"\n",
    "string2 = \"WELCOME\"\n",
    "print(string1 == string2)"
   ]
  },
  {
   "cell_type": "markdown",
   "metadata": {},
   "source": [
    "String comparison in python is performed using the characters in the strings. \n",
    "\n",
    "The characters in the strings are compared one by one. When they are different, then their Unicode value is compared.\n",
    "\n",
    "The character with lower Unicode value is considered to be smaller."
   ]
  },
  {
   "cell_type": "code",
   "execution_count": 71,
   "metadata": {
    "jupyter": {
     "outputs_hidden": false
    }
   },
   "outputs": [
    {
     "data": {
      "text/plain": [
       "True"
      ]
     },
     "execution_count": 71,
     "metadata": {},
     "output_type": "execute_result"
    }
   ],
   "source": [
    "# Compare characters\n",
    "# The ASCII value for <b>A</b> is 101, and the value for <b>B</b> is 102 therefore if:\n",
    "'B' > 'A'"
   ]
  },
  {
   "cell_type": "code",
   "execution_count": 75,
   "metadata": {},
   "outputs": [
    {
     "data": {
      "text/plain": [
       "True"
      ]
     },
     "execution_count": 75,
     "metadata": {},
     "output_type": "execute_result"
    }
   ],
   "source": [
    "# Compare characters\n",
    "\n",
    "'BB' > 'BA'"
   ]
  },
  {
   "cell_type": "markdown",
   "metadata": {},
   "source": [
    "Upper Case Letters have different ASCII code than Lower Case Letters, \n",
    "\n",
    "so the comparison between the letters in python is case-sensitive."
   ]
  },
  {
   "cell_type": "code",
   "execution_count": 77,
   "metadata": {},
   "outputs": [
    {
     "data": {
      "text/plain": [
       "True"
      ]
     },
     "execution_count": 77,
     "metadata": {},
     "output_type": "execute_result"
    }
   ],
   "source": [
    "# Compare characters\n",
    "\n",
    "'b' > 'B'"
   ]
  },
  {
   "cell_type": "markdown",
   "metadata": {},
   "source": [
    "<h3 id=\"branch\">Branching</h3>"
   ]
  },
  {
   "cell_type": "markdown",
   "metadata": {},
   "source": [
    " Branching help us to run different block of statements for different inputs. we start with if statement"
   ]
  },
  {
   "cell_type": "markdown",
   "metadata": {},
   "source": [
    "### If statement"
   ]
  },
  {
   "cell_type": "code",
   "execution_count": 78,
   "metadata": {},
   "outputs": [],
   "source": [
    "# Simple selection structure - single structure\n",
    "\n",
    "# if <conditon>:\n",
    "#    execute the statement"
   ]
  },
  {
   "cell_type": "code",
   "execution_count": 103,
   "metadata": {},
   "outputs": [
    {
     "name": "stdout",
     "output_type": "stream",
     "text": [
      "1) number is  5\n",
      "2) another statment\n",
      "3) End of if condition\n"
     ]
    }
   ],
   "source": [
    "num = 5\n",
    "\n",
    "#expression that can be true or false\n",
    "if (num == 5):\n",
    "    #note the semicolon and the Indentation\n",
    "    #all the statements at the matching indentation level are considered part of the same block.\n",
    "    #The entire block is executed if <expr> is true, or skipped over if <expr> is false.\n",
    "    print(\"1) number is \", num)\n",
    "    print(\"2) another statment\")\n",
    "    \n",
    "#In both the cases execution proceeds   \n",
    "print(\"3) End of if condition\")"
   ]
  },
  {
   "cell_type": "code",
   "execution_count": 81,
   "metadata": {},
   "outputs": [
    {
     "name": "stdout",
     "output_type": "stream",
     "text": [
      "3) End of if condition\n"
     ]
    }
   ],
   "source": [
    "#example on false condition\n",
    "num = 5\n",
    "#expression that can be true or false\n",
    "if (num > 5):\n",
    "    print(\"1) number is \", num)\n",
    "    print(\"2) another statment\")\n",
    "    \n",
    "print(\"3) End of if condition\")\n"
   ]
  },
  {
   "cell_type": "markdown",
   "metadata": {},
   "source": [
    "### if....else statements"
   ]
  },
  {
   "cell_type": "code",
   "execution_count": 85,
   "metadata": {},
   "outputs": [],
   "source": [
    "# Dual selection structure\n",
    "\n",
    "# if <condition>:\n",
    "#     execute statement 1\n",
    "# else:\n",
    "#     execute another statement"
   ]
  },
  {
   "cell_type": "markdown",
   "metadata": {},
   "source": [
    "The <code>else</code> statement runs a block of code if none of the conditions are **True**, \n",
    "\n",
    "before this <code>else</code> statement.\n",
    "\n",
    "The syntax of the <code>else</code> statement is same as the syntax of the <code>if</code> statement</code>. \n",
    "\n",
    "Note that, for <code>else</code> there is no condition statement added.\n"
   ]
  },
  {
   "cell_type": "code",
   "execution_count": 2,
   "metadata": {},
   "outputs": [
    {
     "name": "stdout",
     "output_type": "stream",
     "text": [
      "Enter a number: 21\n",
      "2) 21 is odd\n",
      "3) End of if condtion\n"
     ]
    }
   ],
   "source": [
    "num = int(input(\"Enter a number: \"))\n",
    "\n",
    "if (num % 2 == 0):\n",
    "    print(\"1)\", num, \"is even\") # if-block\n",
    "else:\n",
    "    print(\"2)\", num, \"is odd\") #else-block\n",
    "    \n",
    "print(\"3) End of if condtion\")"
   ]
  },
  {
   "cell_type": "code",
   "execution_count": 5,
   "metadata": {},
   "outputs": [
    {
     "name": "stdout",
     "output_type": "stream",
     "text": [
      "Number is less than 5\n",
      "This statement always executes\n"
     ]
    }
   ],
   "source": [
    "# Multiple selection structure and also nested structure\n",
    "num = 2\n",
    "\n",
    "if (num == 5):\n",
    "    print(\"Number is 5\")\n",
    "else:\n",
    "    if(num > 5):\n",
    "        print(\"Number is greater than 5\")\n",
    "    else:\n",
    "        print(\"Number is less than 5\")\n",
    "            \n",
    "print(\"This statement always executes\")"
   ]
  },
  {
   "cell_type": "markdown",
   "metadata": {},
   "source": [
    "### elif statements"
   ]
  },
  {
   "cell_type": "markdown",
   "metadata": {},
   "source": [
    "The <code>elif</code> statement is short for else if and \n",
    "\n",
    "it allows us to check additional conditions if the condition statements before it are <b>False</b>. \n",
    "\n",
    "If the condition for the <code>elif</code> statement is <b>True</b>, the block of statements below it will get executed. \n",
    "\n",
    "The syntax for <code>Elif</code> is similar to <code>if</code>"
   ]
  },
  {
   "cell_type": "code",
   "execution_count": 88,
   "metadata": {},
   "outputs": [
    {
     "name": "stdout",
     "output_type": "stream",
     "text": [
      "Number is greater than 5\n",
      "This statement always executes\n"
     ]
    }
   ],
   "source": [
    "#elif example\n",
    "\n",
    "num = 7\n",
    "\n",
    "if (num == 5):\n",
    "    print(\"Number is 5\")\n",
    "elif (num > 5):\n",
    "    print(\"Number is greater than 5\")\n",
    "else:\n",
    "    print(\"Number is less than 5\")\n",
    "            \n",
    "print(\"This statement always executes\")"
   ]
  },
  {
   "cell_type": "code",
   "execution_count": 7,
   "metadata": {},
   "outputs": [
    {
     "name": "stdout",
     "output_type": "stream",
     "text": [
      "Enter your score: -34\n",
      "Invalid score\n"
     ]
    }
   ],
   "source": [
    "#Another example\n",
    "marks = int(input(\"Enter your score: \"))\n",
    "\n",
    "if marks > 80:\n",
    "    print(\"Congrats!!! you got distinction\")\n",
    "elif (marks <= 80 and marks > 60):\n",
    "    print(\"You got first class\")\n",
    "elif (marks <= 60 and marks > 35):\n",
    "    print(\"You got second class\")\n",
    "elif (marks <= 35 and marks >= 0):\n",
    "    print(\"Sorry!! you need to retake the exam\")\n",
    "else:\n",
    "    print(\"Invalid score\")\n",
    "    "
   ]
  },
  {
   "cell_type": "code",
   "execution_count": 8,
   "metadata": {},
   "outputs": [
    {
     "name": "stdout",
     "output_type": "stream",
     "text": [
      "Enter a number: dfsadfsdf\n"
     ]
    },
    {
     "ename": "TypeError",
     "evalue": "'>' not supported between instances of 'str' and 'int'",
     "output_type": "error",
     "traceback": [
      "\u001b[1;31m---------------------------------------------------------------------------\u001b[0m",
      "\u001b[1;31mTypeError\u001b[0m                                 Traceback (most recent call last)",
      "\u001b[1;32m<ipython-input-8-61bb3d016960>\u001b[0m in \u001b[0;36m<module>\u001b[1;34m\u001b[0m\n\u001b[0;32m      2\u001b[0m \u001b[0mnumber\u001b[0m \u001b[1;33m=\u001b[0m \u001b[0minput\u001b[0m\u001b[1;33m(\u001b[0m\u001b[1;34m\"Enter a number: \"\u001b[0m\u001b[1;33m)\u001b[0m\u001b[1;33m\u001b[0m\u001b[1;33m\u001b[0m\u001b[0m\n\u001b[0;32m      3\u001b[0m \u001b[1;33m\u001b[0m\u001b[0m\n\u001b[1;32m----> 4\u001b[1;33m \u001b[1;32mif\u001b[0m \u001b[1;33m(\u001b[0m\u001b[0mnumber\u001b[0m \u001b[1;33m>\u001b[0m \u001b[1;36m5\u001b[0m\u001b[1;33m)\u001b[0m\u001b[1;33m:\u001b[0m\u001b[1;33m\u001b[0m\u001b[1;33m\u001b[0m\u001b[0m\n\u001b[0m\u001b[0;32m      5\u001b[0m     \u001b[0mprint\u001b[0m\u001b[1;33m(\u001b[0m\u001b[1;34m\"number is greater than 5\"\u001b[0m\u001b[1;33m)\u001b[0m\u001b[1;33m\u001b[0m\u001b[1;33m\u001b[0m\u001b[0m\n\u001b[0;32m      6\u001b[0m \u001b[1;32melse\u001b[0m\u001b[1;33m:\u001b[0m\u001b[1;33m\u001b[0m\u001b[1;33m\u001b[0m\u001b[0m\n",
      "\u001b[1;31mTypeError\u001b[0m: '>' not supported between instances of 'str' and 'int'"
     ]
    }
   ],
   "source": [
    "#Error in input\n",
    "number = input(\"Enter a number: \")\n",
    "\n",
    "if (number > 5):\n",
    "    print(\"number is greater than 5\")\n",
    "else:\n",
    "    print(\"number is not greater than 5\")\n",
    "    \n",
    "print(\"Statement outside if structure\")"
   ]
  },
  {
   "cell_type": "code",
   "execution_count": 22,
   "metadata": {},
   "outputs": [
    {
     "name": "stdout",
     "output_type": "stream",
     "text": [
      "Enter a number: hjgfhgh\n",
      "Something went wrong!!!\n",
      "Statement outside if structure\n"
     ]
    }
   ],
   "source": [
    "#Error handling\n",
    "try:\n",
    "    number = input(\"Enter a number: \")\n",
    "    if (number > 5):\n",
    "        print(\"number is greater than 5\")\n",
    "    else:\n",
    "        print(\"number is not greater than 5\")\n",
    "except:\n",
    "    print(\"Something went wrong!!!\")\n",
    "    \n",
    "print(\"Statement outside if structure\")    "
   ]
  },
  {
   "cell_type": "markdown",
   "metadata": {},
   "source": [
    "<h3 id=\"logic\">Logical operators</h3>"
   ]
  },
  {
   "cell_type": "markdown",
   "metadata": {},
   "source": [
    "Sometimes we want to check more than one condition at once. \n",
    "\n",
    "When we want to check if two conditions are to be **True** for a block of statements to be executed.\n",
    "\n",
    "In suchn situations logical operators help us to combine more than one conditions.\n",
    "\n",
    "Then the expression are called compound expression.\n",
    "\n",
    "Following are the logical operators.\n",
    "\n",
    "<ul>\n",
    "    <li><code>and</code></li>\n",
    "    <li><code>or</code></li>\n",
    "    <li><code>not</code></li>\n",
    "</ul>\n",
    "\n",
    "These operators are summarized for two variables using the following truth tables:  "
   ]
  },
  {
   "cell_type": "code",
   "execution_count": null,
   "metadata": {},
   "outputs": [],
   "source": [
    "# Truth Table\n",
    "X    Y     X and Y    X or Y   !X\n",
    "=================================\n",
    "T    T        T          T      F\n",
    "T    F        F          T      F\n",
    "F    T        F          T      T\n",
    "F    F        F          F      T"
   ]
  },
  {
   "cell_type": "markdown",
   "metadata": {},
   "source": [
    "The <code>and</code> statement is only **True** when both conditions are true. \n",
    "\n",
    "The <code>or</code> statement is true if one condition is **True**. "
   ]
  },
  {
   "cell_type": "code",
   "execution_count": 13,
   "metadata": {},
   "outputs": [
    {
     "name": "stdout",
     "output_type": "stream",
     "text": [
      "End of programme\n"
     ]
    }
   ],
   "source": [
    "#example using and in if statement\n",
    "num1 = 5\n",
    "num2 = 8\n",
    "if ((num1 > 0) and (num1 > num2)):\n",
    "    print(\"Both the condition satisfied\")\n",
    "print(\"End of programme\")    "
   ]
  },
  {
   "cell_type": "code",
   "execution_count": 14,
   "metadata": {},
   "outputs": [
    {
     "name": "stdout",
     "output_type": "stream",
     "text": [
      "Either one of the condition satisfied\n",
      "End of programme\n"
     ]
    }
   ],
   "source": [
    "if ((num1 > 0) or (num1 > num2)):\n",
    "     print(\"Either one of the condition satisfied\")\n",
    "print(\"End of programme\")    "
   ]
  },
  {
   "cell_type": "markdown",
   "metadata": {},
   "source": [
    "The <code>not</code> statement outputs the opposite truth value.\n",
    "\n",
    "The return value will be True if the statement(s) are not True, otherwise it will return False."
   ]
  },
  {
   "cell_type": "code",
   "execution_count": 16,
   "metadata": {},
   "outputs": [
    {
     "name": "stdout",
     "output_type": "stream",
     "text": [
      "False\n"
     ]
    }
   ],
   "source": [
    "x = True\n",
    "print(not x)"
   ]
  },
  {
   "cell_type": "markdown",
   "metadata": {},
   "source": [
    "<h3 id=\"logic\">in operator</h3>"
   ]
  },
  {
   "cell_type": "markdown",
   "metadata": {},
   "source": [
    "The <code>in</code> operator is used to check if a particular object exists within an iterable object container, such as a list.\n",
    "\n",
    "We will discuss in detail about iterable object container in a seperate video.\n",
    "\n",
    "Now we focus on <code>in</code> operetor in <code>if</code> statement."
   ]
  },
  {
   "cell_type": "code",
   "execution_count": 112,
   "metadata": {},
   "outputs": [
    {
     "name": "stdout",
     "output_type": "stream",
     "text": [
      "Your name is either John or Rick.\n"
     ]
    }
   ],
   "source": [
    "name = \"John\"\n",
    "if name in [\"John\", \"Rick\"]:\n",
    "    print(\"Your name is either John or Rick.\")"
   ]
  },
  {
   "cell_type": "code",
   "execution_count": 113,
   "metadata": {},
   "outputs": [
    {
     "name": "stdout",
     "output_type": "stream",
     "text": [
      "Red is in the list\n"
     ]
    }
   ],
   "source": [
    "color = ['Red','Blue','Green']\n",
    "selColor = \"Red\"\n",
    "if selColor in color:\n",
    "  print(\"Red is in the list\")\n",
    "else:\n",
    "  print(\"Not in the list\")"
   ]
  },
  {
   "cell_type": "markdown",
   "metadata": {},
   "source": [
    "Thankyou"
   ]
  }
 ],
 "metadata": {
  "kernelspec": {
   "display_name": "Python 3",
   "language": "python",
   "name": "python3"
  },
  "language_info": {
   "codemirror_mode": {
    "name": "ipython",
    "version": 3
   },
   "file_extension": ".py",
   "mimetype": "text/x-python",
   "name": "python",
   "nbconvert_exporter": "python",
   "pygments_lexer": "ipython3",
   "version": "3.7.6"
  }
 },
 "nbformat": 4,
 "nbformat_minor": 4
}
