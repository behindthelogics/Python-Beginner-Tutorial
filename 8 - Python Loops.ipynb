{
 "cells": [
  {
   "cell_type": "markdown",
   "metadata": {},
   "source": [
    "<h1>Loops in Python</h1>"
   ]
  },
  {
   "cell_type": "markdown",
   "metadata": {},
   "source": [
    "<p><strong>Hello! Everyone, Welcome to Python Tutorial 8</strong> In this video we will discuss about loops in Python Programming Language.\n",
    "    \n",
    "We will discuss in detail about how to use the loop statements, including for loop, and while loop.</p> "
   ]
  },
  {
   "cell_type": "markdown",
   "metadata": {},
   "source": [
    "<h2 id=\"loop\">What are Loops</h2>"
   ]
  },
  {
   "cell_type": "markdown",
   "metadata": {},
   "source": [
    "Sometime we want to execute a particular task over and over again.\n",
    "\n",
    "Repeated executions like this are performed by <b>loops</b>."
   ]
  },
  {
   "cell_type": "markdown",
   "metadata": {},
   "source": [
    "<h3 id=\"range\">Range</h3>"
   ]
  },
  {
   "cell_type": "markdown",
   "metadata": {},
   "source": [
    "Before we discuss loops lets discuss the <code>range</code> object as range() is commonly used in  looping. \n",
    "\n",
    "The range function outputs ordered sequence. \n",
    "\n",
    "The sequence starts at zero and contains the number of elements same as the input.\n",
    "\n",
    "if the input is three the output is the sequence zero, one, two. (range(3) = [0, 1, 2])"
   ]
  },
  {
   "cell_type": "code",
   "execution_count": 2,
   "metadata": {},
   "outputs": [
    {
     "data": {
      "text/plain": [
       "range(0, 3)"
      ]
     },
     "execution_count": 2,
     "metadata": {},
     "output_type": "execute_result"
    }
   ],
   "source": [
    "range(3)"
   ]
  },
  {
   "cell_type": "markdown",
   "metadata": {},
   "source": [
    "If the range function has two inputs , the output is a sequence that starts at the first input. \n",
    "\n",
    "Then the sequence iterates up to second number, but not including the second number. \n",
    "\n",
    "For the input 5 and 10 we get the following sequence."
   ]
  },
  {
   "cell_type": "code",
   "execution_count": 6,
   "metadata": {
    "scrolled": true
   },
   "outputs": [
    {
     "data": {
      "text/plain": [
       "range(5, 10)"
      ]
     },
     "execution_count": 6,
     "metadata": {},
     "output_type": "execute_result"
    }
   ],
   "source": [
    "range(5, 10) "
   ]
  },
  {
   "cell_type": "markdown",
   "metadata": {},
   "source": [
    "We will understand the use of range exactly when discussing the <code>for loop</code>"
   ]
  },
  {
   "cell_type": "markdown",
   "metadata": {},
   "source": [
    "<h3 id=\"for\"><code>for</code> loop</h3>"
   ]
  },
  {
   "cell_type": "code",
   "execution_count": null,
   "metadata": {},
   "outputs": [],
   "source": [
    "for loop is called as counter-controlled loop\n",
    "\n",
    "#syntax\n",
    "\n",
    "for x in range(start, end, step):\n",
    "    statement\n",
    "    statement\n",
    "    statement"
   ]
  },
  {
   "cell_type": "code",
   "execution_count": 68,
   "metadata": {},
   "outputs": [
    {
     "name": "stdout",
     "output_type": "stream",
     "text": [
      "0 1 2 3 4 5 6 7 8 9 \n",
      "End of for loop\n"
     ]
    }
   ],
   "source": [
    "# 10 is the end number (not inclusive)\n",
    "# start - defaults to 0\n",
    "# step - defaults to +1\n",
    "# end is a parameter for print function which supresses \\n (new line character)\n",
    "\n",
    "for i in range(10): #0,1,2,3....,9\n",
    "    print(i, end = ' ')\n",
    "    \n",
    "print(\"\\nEnd of for loop\")"
   ]
  },
  {
   "cell_type": "code",
   "execution_count": 9,
   "metadata": {},
   "outputs": [
    {
     "name": "stdout",
     "output_type": "stream",
     "text": [
      "5 6 7 8 9 \n"
     ]
    }
   ],
   "source": [
    "# start = 5\n",
    "# end = 10 (but excluding 10)\n",
    "# step = 1\n",
    "\n",
    "for i in range(5, 10): #5,6,7,8,9\n",
    "    print(i, end=' ')\n",
    "    \n",
    "print()"
   ]
  },
  {
   "cell_type": "code",
   "execution_count": 7,
   "metadata": {},
   "outputs": [
    {
     "name": "stdout",
     "output_type": "stream",
     "text": [
      "4 6 8 \n"
     ]
    }
   ],
   "source": [
    "# start = 5\n",
    "# end = 10 (but excluding 10)\n",
    "# step = 2\n",
    "\n",
    "for i in range(4, 10, 2): #4,6,8\n",
    "    print(i, end=' ')\n",
    "    \n",
    "print()"
   ]
  },
  {
   "cell_type": "code",
   "execution_count": 19,
   "metadata": {},
   "outputs": [
    {
     "name": "stdout",
     "output_type": "stream",
     "text": [
      "3\n",
      "4\n",
      "5\n"
     ]
    }
   ],
   "source": [
    "#Create a sequence of numbers from 3 to 5, and print each item in the sequence:\n",
    "x = range(3, 6)\n",
    "for n in x:\n",
    "  print(n)"
   ]
  },
  {
   "cell_type": "code",
   "execution_count": 24,
   "metadata": {},
   "outputs": [
    {
     "name": "stdout",
     "output_type": "stream",
     "text": [
      "2020\n",
      "2021\n",
      "2022\n"
     ]
    }
   ],
   "source": [
    "# another example\n",
    "years = [2020,2021,2022]\n",
    "for i in years:\n",
    "    print(i)   "
   ]
  },
  {
   "cell_type": "markdown",
   "metadata": {},
   "source": [
    "The code in the indent is executed <code>n</code> times and\n",
    "\n",
    "each time the value of <code>i</code> is increased by 1 . \n",
    "\n",
    "Every time the <code>print</code> statement executed & print out the value in the list years at index <code>i</code> \n",
    "\n",
    "For each iteration, the value of the variable <code>i</code> behaves like the value of years[i]"
   ]
  },
  {
   "cell_type": "code",
   "execution_count": 25,
   "metadata": {},
   "outputs": [
    {
     "name": "stdout",
     "output_type": "stream",
     "text": [
      "0 2020\n",
      "1 2021\n",
      "2 2022\n"
     ]
    }
   ],
   "source": [
    "#          0   1     2\n",
    "years = [2020,2021,2022]\n",
    "n = len(years)\n",
    "for i in range(n):\n",
    "    print(i, end = ' ')\n",
    "    print(years[i])"
   ]
  },
  {
   "cell_type": "code",
   "execution_count": 27,
   "metadata": {},
   "outputs": [
    {
     "name": "stdout",
     "output_type": "stream",
     "text": [
      "0\n",
      "1\n",
      "2\n",
      "3\n",
      "4\n",
      "5\n",
      "6\n",
      "7\n"
     ]
    }
   ],
   "source": [
    "# Example of for loop\n",
    "#print 0 to 7\n",
    "for i in range(0, 8):\n",
    "    print(i)"
   ]
  },
  {
   "cell_type": "code",
   "execution_count": 28,
   "metadata": {},
   "outputs": [
    {
     "name": "stdout",
     "output_type": "stream",
     "text": [
      "-5\n",
      "-4\n",
      "-3\n",
      "-2\n",
      "-1\n",
      "0\n",
      "1\n",
      "2\n",
      "3\n",
      "4\n",
      "5\n"
     ]
    }
   ],
   "source": [
    "# <code>for</code> loop the prints out all the element between \n",
    "# <b>-5</b> and <b>5</b> using the range function.\n",
    "for i in range(-5,6):\n",
    "    print(i)"
   ]
  },
  {
   "cell_type": "code",
   "execution_count": 30,
   "metadata": {},
   "outputs": [
    {
     "name": "stdout",
     "output_type": "stream",
     "text": [
      "rock\n",
      "R&B\n",
      "Soundtrack\n",
      "R&B\n",
      "soul\n",
      "pop\n"
     ]
    }
   ],
   "source": [
    "Genres = [ 'rock', 'R&B', 'Soundtrack', 'R&B', 'soul', 'pop']\n",
    "for Genre in Genres:\n",
    "    print(Genre)"
   ]
  },
  {
   "cell_type": "code",
   "execution_count": 31,
   "metadata": {},
   "outputs": [
    {
     "name": "stdout",
     "output_type": "stream",
     "text": [
      "   1    2    3    4    5    6    7    8    9   10 \n",
      "   2    4    6    8   10   12   14   16   18   20 \n",
      "   3    6    9   12   15   18   21   24   27   30 \n",
      "   4    8   12   16   20   24   28   32   36   40 \n",
      "   5   10   15   20   25   30   35   40   45   50 \n",
      "   6   12   18   24   30   36   42   48   54   60 \n",
      "   7   14   21   28   35   42   49   56   63   70 \n",
      "   8   16   24   32   40   48   56   64   72   80 \n",
      "   9   18   27   36   45   54   63   72   81   90 \n",
      "  10   20   30   40   50   60   70   80   90  100 \n"
     ]
    }
   ],
   "source": [
    "# Nested Loop\n",
    "# Loop inside a loop\n",
    "# code to build a multiplication table\n",
    "\n",
    "for i in range(1,11): #1,2,...,10 # Outer loop # Rows\n",
    "    for j in range(1,11):  #Inner loop # columns\n",
    "        print(\"%4d\" %(i * j), end=' ')\n",
    "    print()\n",
    "    \n",
    "## For each value of the outloop repeat the inner loop \n",
    "# For i = 1, j will be executed 10 times(1 to 10)\n",
    "# For i = 2, j will be executed 10 times(1 to 10)"
   ]
  },
  {
   "cell_type": "markdown",
   "metadata": {},
   "source": [
    "We can change the elements in a list:"
   ]
  },
  {
   "cell_type": "code",
   "execution_count": 39,
   "metadata": {
    "jupyter": {
     "outputs_hidden": false
    }
   },
   "outputs": [
    {
     "name": "stdout",
     "output_type": "stream",
     "text": [
      "['redColor', 'yellowColor', 'greenColor', 'purpleColor', 'blueColor']\n"
     ]
    }
   ],
   "source": [
    "# Use for loop to change the elements in list\n",
    "\n",
    "colors = ['red', 'yellow', 'green', 'purple', 'blue']\n",
    "\n",
    "for i in range(0, 5):\n",
    "    colors[i] = colors[i] + 'Color'\n",
    "print(colors)"
   ]
  },
  {
   "cell_type": "code",
   "execution_count": 40,
   "metadata": {
    "jupyter": {
     "outputs_hidden": false
    }
   },
   "outputs": [
    {
     "name": "stdout",
     "output_type": "stream",
     "text": [
      "0 red\n",
      "1 yellow\n",
      "2 green\n",
      "3 purple\n",
      "4 blue\n"
     ]
    }
   ],
   "source": [
    "# Loop through the list and iterate on both index and element value\n",
    "\n",
    "colors=['red', 'yellow', 'green', 'purple', 'blue']\n",
    "\n",
    "for i, color in enumerate(colors):\n",
    "    print(i, color)"
   ]
  },
  {
   "cell_type": "markdown",
   "metadata": {},
   "source": [
    "#### Enumerate()"
   ]
  },
  {
   "cell_type": "markdown",
   "metadata": {},
   "source": [
    "A lot of times when dealing with iterators, we need to keep a count of iterations (no of items in the iterators.\n",
    "\n",
    "In Python the built-in function enumerate() helps this task.\n",
    "\n",
    "The enumerate() function takes a collection (e.g. a tuple or a list), adds a counter as the key and returns it as an enumerate object."
   ]
  },
  {
   "cell_type": "markdown",
   "metadata": {},
   "source": [
    "#### Iterator"
   ]
  },
  {
   "cell_type": "markdown",
   "metadata": {},
   "source": [
    "<code> An iterator is an object that contains a countable number of values.</code>\n",
    "\n",
    "<code>An iterator is an object that can be iterated upon, meaning that we can loop through all the values</code>"
   ]
  },
  {
   "cell_type": "markdown",
   "metadata": {},
   "source": [
    "#### Syntax\n",
    "\n",
    "<code>enumerate(iterable, start=0)</code>\n",
    "\n",
    "iterable - a sequence, an iterator, or objects that supports iteration\n",
    "\n",
    "start – position in the iterator from where the counting starts.Default is 0."
   ]
  },
  {
   "cell_type": "markdown",
   "metadata": {},
   "source": [
    "#### Return Type\n",
    "\n",
    "Enumerate function returns an object by adding the iterating counter value to it. \n",
    "\n",
    "This enumerate object can then be used directly in for loops or be converted into a list of tuples using list() method."
   ]
  },
  {
   "cell_type": "code",
   "execution_count": 72,
   "metadata": {},
   "outputs": [
    {
     "name": "stdout",
     "output_type": "stream",
     "text": [
      "<class 'enumerate'>\n",
      "[(0, 'Mon'), (1, 'Tue'), (2, 'Wed'), (3, 'Thu')]\n",
      "[(5, 'Mon'), (6, 'Tue'), (7, 'Wed'), (8, 'Thu')]\n"
     ]
    }
   ],
   "source": [
    "days= ['Mon', 'Tue', 'Wed','Thu']\n",
    "enum_days = enumerate(days)\n",
    "print(type(enum_days))\n",
    "\n",
    "# converting it to alist\n",
    "print(list(enum_days))\n",
    "\n",
    "# changing the default counter to 5\n",
    "enum_days = enumerate(days, 5)\n",
    "print(list(enum_days))"
   ]
  },
  {
   "cell_type": "markdown",
   "metadata": {},
   "source": [
    "#### Advantages of using Enumerate\n",
    "\n",
    "Enumerate allows us to loop through a list, tuple, dictionary, string, and gives the values along with the index.\n",
    "\n",
    "To get index value using for-loop, we can make use of list.index(n). \n",
    "\n",
    "But, list.index(n) is very expensive as it will traverse the for-loop twice. \n",
    "\n",
    "Enumerate is very helpful in such a case as it gives the index and items at one go."
   ]
  },
  {
   "cell_type": "markdown",
   "metadata": {},
   "source": [
    "<h3 id=\"while\"><code>while</code> loop</h3>"
   ]
  },
  {
   "cell_type": "code",
   "execution_count": null,
   "metadata": {},
   "outputs": [],
   "source": [
    "While loop is also called as condition-controlled loop\n",
    "\n",
    "while <Condition>:\n",
    "   perform statements\n",
    "   statement-2\n",
    "   make sure you set the condition to be false"
   ]
  },
  {
   "cell_type": "markdown",
   "metadata": {},
   "source": [
    "#### Why while loop"
   ]
  },
  {
   "cell_type": "markdown",
   "metadata": {},
   "source": [
    "The <code>for</code> loop is used for a controlled flow of repetition.\n",
    "\n",
    "<code>what if we do not know when to stop the loop?</code>\n",
    "\n",
    "<code>What if we want to keep executing a block of until a certain condition is met?</code> \n",
    "\n",
    "The <code>while</code> loop exists as a tool for repeated execution based on a condition. \n",
    "\n",
    "The code block will keep executed until the given logical condition returns a **False** ."
   ]
  },
  {
   "cell_type": "code",
   "execution_count": 73,
   "metadata": {
    "jupyter": {
     "outputs_hidden": false
    },
    "scrolled": true
   },
   "outputs": [
    {
     "name": "stdout",
     "output_type": "stream",
     "text": [
      "1982\n",
      "1980\n",
      "1973\n",
      "It took  3 repetitions to get out of loop.\n"
     ]
    }
   ],
   "source": [
    "# loop through a list <code>years</code> and stop at the year 1973\n",
    "# then print out the number of iterations. \n",
    "#          0     1     2     3\n",
    "years = [1982, 1980, 1973, 2000]\n",
    "\n",
    "i = 0\n",
    "year = 0\n",
    "\n",
    "while(year != 1973):\n",
    "    year = years[i]\n",
    "    i = i + 1\n",
    "    print(year)\n",
    "\n",
    "print(\"It took \", i ,\"repetitions to get out of loop.\")"
   ]
  },
  {
   "cell_type": "code",
   "execution_count": 42,
   "metadata": {},
   "outputs": [
    {
     "name": "stdout",
     "output_type": "stream",
     "text": [
      "0\n",
      "1\n",
      "2\n",
      "3\n",
      "4\n"
     ]
    }
   ],
   "source": [
    "#simpel exapmle 1\n",
    "i = 0\n",
    "while (i < 5):\n",
    "    print(i)\n",
    "    i += 1\n"
   ]
  },
  {
   "cell_type": "code",
   "execution_count": 43,
   "metadata": {},
   "outputs": [
    {
     "name": "stdout",
     "output_type": "stream",
     "text": [
      "2 6 10 14 \n"
     ]
    }
   ],
   "source": [
    "#simpel exapmle 2\n",
    "i = 2\n",
    "while (i < 15):\n",
    "    print(i, end=' ')\n",
    "    i += 4\n",
    "    \n",
    "print()"
   ]
  },
  {
   "cell_type": "code",
   "execution_count": 44,
   "metadata": {},
   "outputs": [
    {
     "name": "stdout",
     "output_type": "stream",
     "text": [
      "-2 -5 -8 \n"
     ]
    }
   ],
   "source": [
    "#simpel exapmle 3\n",
    "i = -2\n",
    "while (i > -10):\n",
    "    print(i, end=' ')\n",
    "    i -= 3\n",
    "    \n",
    "print()"
   ]
  },
  {
   "cell_type": "markdown",
   "metadata": {},
   "source": [
    "#### Comparision between a while and a for loop"
   ]
  },
  {
   "cell_type": "code",
   "execution_count": null,
   "metadata": {},
   "outputs": [],
   "source": [
    "1) Initialize variable (i=5) - One time execution\n",
    "2) Check the condition (i < 15)\n",
    "3) Execute statements  (printing i)\n",
    "4) Increment/decrement the counter (i += 3) - go back to step 2"
   ]
  },
  {
   "cell_type": "code",
   "execution_count": 44,
   "metadata": {},
   "outputs": [
    {
     "name": "stdout",
     "output_type": "stream",
     "text": [
      "5 8 11 14 \n"
     ]
    }
   ],
   "source": [
    "i = 5\n",
    "while (i < 15):\n",
    "    print(i, end=' ')\n",
    "    i += 3\n",
    "\n",
    "print()"
   ]
  },
  {
   "cell_type": "code",
   "execution_count": 45,
   "metadata": {},
   "outputs": [
    {
     "name": "stdout",
     "output_type": "stream",
     "text": [
      "5 8 11 14 \n"
     ]
    }
   ],
   "source": [
    "# start = 5\n",
    "# end = 15 (not inclusive)\n",
    "# step = 3\n",
    "\n",
    "for i in range(5, 15, 3): #5, 8, 11, 14\n",
    "    print(i, end=' ')\n",
    "\n",
    "print()"
   ]
  },
  {
   "cell_type": "markdown",
   "metadata": {},
   "source": [
    "#### Break and Continue Statment "
   ]
  },
  {
   "cell_type": "code",
   "execution_count": 46,
   "metadata": {},
   "outputs": [
    {
     "name": "stdout",
     "output_type": "stream",
     "text": [
      "5 6 7 8 9 10 "
     ]
    }
   ],
   "source": [
    "# Break statement breaks out of the loop completely\n",
    "# Continue breaking out of the current iteration\n",
    "\n",
    "i = 5\n",
    "\n",
    "while(i < 15):\n",
    "    print(i, end =' ')\n",
    "    \n",
    "    if (i == 10):\n",
    "        break\n",
    "        \n",
    "    i += 1"
   ]
  },
  {
   "cell_type": "code",
   "execution_count": 47,
   "metadata": {},
   "outputs": [
    {
     "name": "stdout",
     "output_type": "stream",
     "text": [
      "5 6 7 8 9 11 12 13 14 "
     ]
    }
   ],
   "source": [
    "\n",
    "i = 5\n",
    "\n",
    "while (i < 15):\n",
    "    if (i == 10):\n",
    "        i += 1\n",
    "        continue\n",
    "    print(i, end =' ')\n",
    "    i += 1"
   ]
  },
  {
   "cell_type": "markdown",
   "metadata": {},
   "source": [
    "<hr>"
   ]
  },
  {
   "cell_type": "markdown",
   "metadata": {},
   "source": [
    "<h3>Looping through different sequences</h3>"
   ]
  },
  {
   "cell_type": "markdown",
   "metadata": {},
   "source": [
    "#### Dictionaries"
   ]
  },
  {
   "cell_type": "code",
   "execution_count": 50,
   "metadata": {},
   "outputs": [],
   "source": [
    "employees = {'1111' : \"James\", '2222' : \"Lucy\", '3333' : \"Robert\", '4444' : \"Kelly\"}"
   ]
  },
  {
   "cell_type": "code",
   "execution_count": 51,
   "metadata": {},
   "outputs": [
    {
     "name": "stdout",
     "output_type": "stream",
     "text": [
      "1111\n",
      "2222\n",
      "3333\n",
      "4444\n"
     ]
    }
   ],
   "source": [
    "for key in employees:\n",
    "    print(key)"
   ]
  },
  {
   "cell_type": "code",
   "execution_count": 52,
   "metadata": {},
   "outputs": [
    {
     "name": "stdout",
     "output_type": "stream",
     "text": [
      "1111  :  James\n",
      "2222  :  Lucy\n",
      "3333  :  Robert\n",
      "4444  :  Kelly\n"
     ]
    }
   ],
   "source": [
    "for key in employees:\n",
    "    print(key, \" : \", employees[key])"
   ]
  },
  {
   "cell_type": "code",
   "execution_count": 53,
   "metadata": {},
   "outputs": [
    {
     "name": "stdout",
     "output_type": "stream",
     "text": [
      "1111\n",
      "2222\n",
      "3333\n",
      "4444\n"
     ]
    }
   ],
   "source": [
    "for key in employees.keys():\n",
    "    print(key)"
   ]
  },
  {
   "cell_type": "code",
   "execution_count": 54,
   "metadata": {},
   "outputs": [
    {
     "name": "stdout",
     "output_type": "stream",
     "text": [
      "James\n",
      "Lucy\n",
      "Robert\n",
      "Kelly\n"
     ]
    }
   ],
   "source": [
    "for value in employees.values():\n",
    "    print(value)"
   ]
  },
  {
   "cell_type": "code",
   "execution_count": 55,
   "metadata": {},
   "outputs": [
    {
     "name": "stdout",
     "output_type": "stream",
     "text": [
      "('1111', 'James')\n",
      "('2222', 'Lucy')\n",
      "('3333', 'Robert')\n",
      "('4444', 'Kelly')\n"
     ]
    }
   ],
   "source": [
    "for item in employees.items():\n",
    "    print(item)"
   ]
  },
  {
   "cell_type": "code",
   "execution_count": 56,
   "metadata": {},
   "outputs": [
    {
     "name": "stdout",
     "output_type": "stream",
     "text": [
      "1111  :  James\n",
      "2222  :  Lucy\n",
      "3333  :  Robert\n",
      "4444  :  Kelly\n"
     ]
    }
   ],
   "source": [
    "for item in employees.items():\n",
    "    print(item[0], ' : ', item[1])"
   ]
  },
  {
   "cell_type": "markdown",
   "metadata": {},
   "source": [
    "#### Strings"
   ]
  },
  {
   "cell_type": "code",
   "execution_count": 57,
   "metadata": {},
   "outputs": [
    {
     "name": "stdout",
     "output_type": "stream",
     "text": [
      "T h i s   i s   a   G a m e \n"
     ]
    }
   ],
   "source": [
    "#    -43210987654321\n",
    "s1 = \"This is a Game\"\n",
    "#     01234567890123\n",
    "\n",
    "for i in range(len(s1)): #0,14,1\n",
    "    print(s1[i], end=' ')\n",
    "\n",
    "print()"
   ]
  },
  {
   "cell_type": "code",
   "execution_count": 58,
   "metadata": {},
   "outputs": [
    {
     "name": "stdout",
     "output_type": "stream",
     "text": [
      "e m a G   a   s i   s i h T \n"
     ]
    }
   ],
   "source": [
    "for i in range(-1, -len(s1)-1, -1):\n",
    "    print(s1[i], end=' ')\n",
    "    \n",
    "print()"
   ]
  },
  {
   "cell_type": "code",
   "execution_count": 59,
   "metadata": {},
   "outputs": [
    {
     "name": "stdout",
     "output_type": "stream",
     "text": [
      "h     G e \n"
     ]
    }
   ],
   "source": [
    "for i in range(1, len(s1), 3):\n",
    "    print(s1[i], end=' ')\n",
    "    \n",
    "print()"
   ]
  },
  {
   "cell_type": "code",
   "execution_count": 60,
   "metadata": {},
   "outputs": [
    {
     "name": "stdout",
     "output_type": "stream",
     "text": [
      "T h i s   i s   a   G a m e \n"
     ]
    }
   ],
   "source": [
    "# String is a sequence object\n",
    "# Looping through a String without using its index\n",
    "\n",
    "for x in s1:\n",
    "    print(x, end=' ')\n",
    "    \n",
    "print()"
   ]
  },
  {
   "cell_type": "code",
   "execution_count": 61,
   "metadata": {},
   "outputs": [
    {
     "name": "stdout",
     "output_type": "stream",
     "text": [
      "-14  :  T\n",
      "-13  :  h\n",
      "-12  :  i\n",
      "-11  :  s\n",
      "-10  :   \n",
      "-9  :  i\n",
      "-8  :  s\n",
      "-7  :   \n",
      "-6  :  a\n",
      "-5  :   \n",
      "-4  :  G\n",
      "-3  :  a\n",
      "-2  :  m\n",
      "-1  :  e\n",
      "\n"
     ]
    }
   ],
   "source": [
    "i = -len(s1) #14\n",
    "\n",
    "while (i <= -1):\n",
    "    print(i, \" : \", s1[i])\n",
    "    \n",
    "    i += 1\n",
    "    \n",
    "print()"
   ]
  },
  {
   "cell_type": "markdown",
   "metadata": {},
   "source": [
    "#### Tuples"
   ]
  },
  {
   "cell_type": "code",
   "execution_count": 61,
   "metadata": {},
   "outputs": [],
   "source": [
    "colorTuple = ('red', 'yellow', 'green', 'purple', 'blue')"
   ]
  },
  {
   "cell_type": "code",
   "execution_count": 62,
   "metadata": {},
   "outputs": [
    {
     "name": "stdout",
     "output_type": "stream",
     "text": [
      "red\n",
      "yellow\n",
      "green\n",
      "purple\n",
      "blue\n"
     ]
    }
   ],
   "source": [
    "for i in range(len(colorTuple)):\n",
    "    print(colorTuple[i])"
   ]
  },
  {
   "cell_type": "code",
   "execution_count": 63,
   "metadata": {},
   "outputs": [
    {
     "name": "stdout",
     "output_type": "stream",
     "text": [
      "red\n",
      "yellow\n",
      "green\n",
      "purple\n",
      "blue\n"
     ]
    }
   ],
   "source": [
    "for x in colorTuple:\n",
    "    print(x)"
   ]
  },
  {
   "cell_type": "markdown",
   "metadata": {},
   "source": [
    "#### list"
   ]
  },
  {
   "cell_type": "code",
   "execution_count": 64,
   "metadata": {},
   "outputs": [],
   "source": [
    "colorList = ['red', 'yellow', 'green', 'purple', 'blue']"
   ]
  },
  {
   "cell_type": "code",
   "execution_count": 65,
   "metadata": {},
   "outputs": [
    {
     "name": "stdout",
     "output_type": "stream",
     "text": [
      "red yellow green purple blue \n"
     ]
    }
   ],
   "source": [
    "for i in range(len(colorList)):\n",
    "    print(colorList[i], end=' ')\n",
    "print()"
   ]
  },
  {
   "cell_type": "code",
   "execution_count": 66,
   "metadata": {},
   "outputs": [
    {
     "name": "stdout",
     "output_type": "stream",
     "text": [
      "blue purple green yellow red \n"
     ]
    }
   ],
   "source": [
    "for i in range(-1, -len(colorList)-1, -1):\n",
    "    print(colorList[i], end=' ')\n",
    "    \n",
    "print()"
   ]
  },
  {
   "cell_type": "markdown",
   "metadata": {},
   "source": [
    "### Thankyou"
   ]
  }
 ],
 "metadata": {
  "kernelspec": {
   "display_name": "Python 3",
   "language": "python",
   "name": "python3"
  },
  "language_info": {
   "codemirror_mode": {
    "name": "ipython",
    "version": 3
   },
   "file_extension": ".py",
   "mimetype": "text/x-python",
   "name": "python",
   "nbconvert_exporter": "python",
   "pygments_lexer": "ipython3",
   "version": "3.7.6"
  }
 },
 "nbformat": 4,
 "nbformat_minor": 4
}
