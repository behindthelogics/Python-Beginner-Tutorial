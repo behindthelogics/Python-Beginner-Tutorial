{
 "cells": [
  {
   "cell_type": "markdown",
   "metadata": {},
   "source": [
    "<h2> Python - 5 Mutable Data Structures | Dictionaries "
   ]
  },
  {
   "cell_type": "markdown",
   "metadata": {},
   "source": [
    "<p><strong>Hello! Everyone, Welcome to Python Tutorial 5</strong> In this video we will discuss about dictionaries, another mutable data structure in Python. In last video we discuss about what is mutable data structure and we discuss in detail about lists. Please go through the video, i have given the link in the description box.</p> "
   ]
  },
  {
   "cell_type": "markdown",
   "metadata": {},
   "source": [
    "<h2>Topics</h2>\n",
    "<div class=\"alert alert-block alert-info\" style=\"margin-top: 20px\">\n",
    "    <ul>\n",
    "        <li>\n",
    "            <a href=\"#dic\">Dictionaries</a>\n",
    "            <ul>\n",
    "                <li><a href=\"content\">What are Dictionaries?</a></li>\n",
    "                <li><a href=\"key\">Keys and Values</a></li>\n",
    "                <li><a href=\"key\">Methods</a></li>\n",
    "                <li><a href=\"key\">Nested Dictionaries</a></li>\n",
    "                <li><a href=\"key\">Discussion on where to use Tuples, Lists & Dictionaries</a></li>\n",
    "            </ul>\n",
    "        </li>\n",
    "    </ul>\n",
    "        \n",
    "</div>\n",
    "\n",
    "<hr>"
   ]
  },
  {
   "cell_type": "markdown",
   "metadata": {},
   "source": [
    "<h2 id=\"Dic\">Dictionaries</h2>"
   ]
  },
  {
   "cell_type": "markdown",
   "metadata": {},
   "source": [
    "<h3 id=\"content\">What are Dictionaries?</h3>"
   ]
  },
  {
   "cell_type": "markdown",
   "metadata": {},
   "source": [
    "Like a list, a dictionary holds a sequence of elements. Each element is represented by a key and its corresponding value. \n",
    "\n",
    "But lists have numerical indexes, dictionary has no indexing. \n",
    "\n",
    "Dictionaries have keys. These keys are used to access values within a dictionary."
   ]
  },
  {
   "cell_type": "markdown",
   "metadata": {},
   "source": [
    "We already discussed about lists and indexing. Below image shows how dictionary differs from lists. "
   ]
  },
  {
   "cell_type": "markdown",
   "metadata": {},
   "source": [
    "<img src=\"listvsdict.png\" />"
   ]
  },
  {
   "cell_type": "code",
   "execution_count": 139,
   "metadata": {},
   "outputs": [
    {
     "name": "stdout",
     "output_type": "stream",
     "text": [
      "{}\n"
     ]
    },
    {
     "data": {
      "text/plain": [
       "dict"
      ]
     },
     "execution_count": 139,
     "metadata": {},
     "output_type": "execute_result"
    }
   ],
   "source": [
    "# Create an empty dictionary\n",
    "# An empty dictionary is written with just two curly braces\n",
    "# Its data type is dict object\n",
    "employees = {}\n",
    "print(employees)\n",
    "type(employees)"
   ]
  },
  {
   "cell_type": "code",
   "execution_count": 5,
   "metadata": {},
   "outputs": [
    {
     "name": "stdout",
     "output_type": "stream",
     "text": [
      "{'3333': 'Robert'}\n"
     ]
    }
   ],
   "source": [
    "# Adding a value to the dictionary\n",
    "employees['3333'] = \"Robert\"\n",
    "print(employees)"
   ]
  },
  {
   "cell_type": "code",
   "execution_count": 138,
   "metadata": {
    "jupyter": {
     "outputs_hidden": false
    }
   },
   "outputs": [
    {
     "data": {
      "text/plain": [
       "{'key1': 1,\n",
       " 'key2': '2',\n",
       " 'key3': [3, 3, 3],\n",
       " 'key4': (4, 4, 4),\n",
       " 'key5': 5,\n",
       " (0, 1): 6,\n",
       " 6: 'test'}"
      ]
     },
     "execution_count": 138,
     "metadata": {},
     "output_type": "execute_result"
    }
   ],
   "source": [
    "# Creating the dictionary with some values\n",
    "# Key and its value are separated by a colon\n",
    "# key-value pairs are separated by a comma\n",
    "# The whole dictionary is enclosed in curly braces\n",
    "sample = {\"key1\": 1, \"key2\": \"2\", \"key3\": [3, 3, 3], \"key4\": (4, 4, 4), \n",
    "          ('key5'): 5, (0, 1): 6, 6 : 'test'}\n",
    "sample"
   ]
  },
  {
   "cell_type": "code",
   "execution_count": 33,
   "metadata": {},
   "outputs": [],
   "source": [
    "# Keys can be any of the immutable object like strings , tuples\n",
    "# keys can aslo be numbers.\n",
    "# Values can be any object."
   ]
  },
  {
   "cell_type": "markdown",
   "metadata": {},
   "source": [
    "As lists are immutable objects, it cannot be used as a key for a dictionary.\n",
    "\n",
    "But if we want to use a list as a key, we must turn it into a tuple first (specifically, tuples that contain immutable values like strings, numbers, and other tuples). "
   ]
  },
  {
   "cell_type": "code",
   "execution_count": 142,
   "metadata": {
    "jupyter": {
     "outputs_hidden": false
    }
   },
   "outputs": [
    {
     "data": {
      "text/plain": [
       "{'Spider-Man': '2002',\n",
       " 'Spider-Man 2': '2004',\n",
       " 'Spider-Man 3': '2007',\n",
       " 'The Amazing Spider-Man': '2012',\n",
       " 'The Amazing Spider-Man 2': '2014',\n",
       " 'Spider-Man: Homecoming': '2017'}"
      ]
     },
     "execution_count": 142,
     "metadata": {},
     "output_type": "execute_result"
    }
   ],
   "source": [
    "# Dictionary of siperman movies\n",
    "# Key are Movie names and Values are release year\n",
    "spider_release_dict = {\"Spider-Man\": \"2002\", \"Spider-Man 2\": \"2004\", \n",
    "                    \"Spider-Man 3\": \"2007\", \n",
    "                    \"The Amazing Spider-Man\": \"2012\", \n",
    "                    \"The Amazing Spider-Man 2\": \"2014\", \n",
    "                    \"Spider-Man: Homecoming\":\"2017\"}\n",
    "spider_release_dict"
   ]
  },
  {
   "cell_type": "markdown",
   "metadata": {},
   "source": [
    "For every key, there can only be one single value (Keys of a dictionary cannot be duplicate)\n",
    "\n",
    "however, multiple keys can hold the same value."
   ]
  },
  {
   "cell_type": "code",
   "execution_count": 5,
   "metadata": {},
   "outputs": [
    {
     "data": {
      "text/plain": [
       "{'a': 20, 'b': 70, 'c': 20}"
      ]
     },
     "execution_count": 5,
     "metadata": {},
     "output_type": "execute_result"
    }
   ],
   "source": [
    "new_dict = {\"a\" : 20, \"b\" : 70, \"c\" : 20}\n",
    "new_dict"
   ]
  },
  {
   "cell_type": "markdown",
   "metadata": {},
   "source": [
    "It is helpful to visualize the dictionary as a table, as in the following image. The first column represents the keys, the second column represents the values."
   ]
  },
  {
   "cell_type": "markdown",
   "metadata": {},
   "source": [
    "<img src=\"keyvalue.png\"/>"
   ]
  },
  {
   "cell_type": "markdown",
   "metadata": {},
   "source": [
    "<h3 id=\"key\">Keys</h3>"
   ]
  },
  {
   "cell_type": "code",
   "execution_count": 18,
   "metadata": {
    "jupyter": {
     "outputs_hidden": false
    }
   },
   "outputs": [
    {
     "data": {
      "text/plain": [
       "'2017'"
      ]
     },
     "execution_count": 18,
     "metadata": {},
     "output_type": "execute_result"
    }
   ],
   "source": [
    "# Access a value using the key\n",
    "spider_release_dict['Spider-Man: Homecoming'] "
   ]
  },
  {
   "cell_type": "code",
   "execution_count": 10,
   "metadata": {
    "jupyter": {
     "outputs_hidden": false
    }
   },
   "outputs": [
    {
     "data": {
      "text/plain": [
       "'2012'"
      ]
     },
     "execution_count": 10,
     "metadata": {},
     "output_type": "execute_result"
    }
   ],
   "source": [
    "spider_release_dict['The Amazing Spider-Man'] "
   ]
  },
  {
   "cell_type": "code",
   "execution_count": 11,
   "metadata": {
    "jupyter": {
     "outputs_hidden": false
    }
   },
   "outputs": [
    {
     "data": {
      "text/plain": [
       "dict_keys(['Spider-Man', 'Spider-Man 2', 'Spider-Man 3', 'The Amazing Spider-Man', 'The Amazing Spider-Man 2', 'Spider-Man: Homecoming'])"
      ]
     },
     "execution_count": 11,
     "metadata": {},
     "output_type": "execute_result"
    }
   ],
   "source": [
    "# Get all the keys in dictionary\n",
    "keys = spider_release_dict.keys() \n",
    "keys"
   ]
  },
  {
   "cell_type": "code",
   "execution_count": 12,
   "metadata": {},
   "outputs": [
    {
     "data": {
      "text/plain": [
       "dict_keys"
      ]
     },
     "execution_count": 12,
     "metadata": {},
     "output_type": "execute_result"
    }
   ],
   "source": [
    "type(keys)"
   ]
  },
  {
   "cell_type": "code",
   "execution_count": 13,
   "metadata": {},
   "outputs": [
    {
     "data": {
      "text/plain": [
       "['Spider-Man',\n",
       " 'Spider-Man 2',\n",
       " 'Spider-Man 3',\n",
       " 'The Amazing Spider-Man',\n",
       " 'The Amazing Spider-Man 2',\n",
       " 'Spider-Man: Homecoming']"
      ]
     },
     "execution_count": 13,
     "metadata": {},
     "output_type": "execute_result"
    }
   ],
   "source": [
    "#converting keys into a list\n",
    "key_list = list(keys)\n",
    "key_list"
   ]
  },
  {
   "cell_type": "code",
   "execution_count": 14,
   "metadata": {},
   "outputs": [
    {
     "data": {
      "text/plain": [
       "list"
      ]
     },
     "execution_count": 14,
     "metadata": {},
     "output_type": "execute_result"
    }
   ],
   "source": [
    "type(key_list)"
   ]
  },
  {
   "cell_type": "markdown",
   "metadata": {},
   "source": [
    "<h3 id=\"key\">Values</h3>"
   ]
  },
  {
   "cell_type": "markdown",
   "metadata": {},
   "source": [
    "We can get the values using the method  <code>values()</code>:"
   ]
  },
  {
   "cell_type": "code",
   "execution_count": 16,
   "metadata": {
    "jupyter": {
     "outputs_hidden": false
    }
   },
   "outputs": [
    {
     "data": {
      "text/plain": [
       "dict_values(['2002', '2004', '2007', '2012', '2014', '2017'])"
      ]
     },
     "execution_count": 16,
     "metadata": {},
     "output_type": "execute_result"
    }
   ],
   "source": [
    "# Get all the values in dictionary\n",
    "spider_release_dict.values() "
   ]
  },
  {
   "cell_type": "markdown",
   "metadata": {},
   "source": [
    "### Other Methods and functions"
   ]
  },
  {
   "cell_type": "code",
   "execution_count": 20,
   "metadata": {},
   "outputs": [
    {
     "data": {
      "text/plain": [
       "dict_items([('Spider-Man', '2002'), ('Spider-Man 2', '2004'), ('Spider-Man 3', '2007'), ('The Amazing Spider-Man', '2012'), ('The Amazing Spider-Man 2', '2014'), ('Spider-Man: Homecoming', '2017')])"
      ]
     },
     "execution_count": 20,
     "metadata": {},
     "output_type": "execute_result"
    }
   ],
   "source": [
    "# Method to return tuples of all items \n",
    "spider_release_dict.items()"
   ]
  },
  {
   "cell_type": "code",
   "execution_count": 23,
   "metadata": {
    "jupyter": {
     "outputs_hidden": false
    }
   },
   "outputs": [
    {
     "data": {
      "text/plain": [
       "{'Spider-Man': '2002',\n",
       " 'Spider-Man 2': '2004',\n",
       " 'Spider-Man 3': '2007',\n",
       " 'The Amazing Spider-Man': '2012',\n",
       " 'The Amazing Spider-Man 2': '2014',\n",
       " 'Spider-Man: Homecoming': '2017',\n",
       " 'Spider-Man: Far From Home': '2019'}"
      ]
     },
     "execution_count": 23,
     "metadata": {},
     "output_type": "execute_result"
    }
   ],
   "source": [
    "# Append value with key into dictionary\n",
    "\n",
    "spider_release_dict['Spider-Man: Far From Home'] = '2019'\n",
    "spider_release_dict"
   ]
  },
  {
   "cell_type": "code",
   "execution_count": 140,
   "metadata": {
    "jupyter": {
     "outputs_hidden": false
    }
   },
   "outputs": [
    {
     "data": {
      "text/plain": [
       "{'Spider-Man 3': '2007',\n",
       " 'The Amazing Spider-Man': '2012',\n",
       " 'The Amazing Spider-Man 2': '2014',\n",
       " 'Spider-Man: Homecoming': '2017'}"
      ]
     },
     "execution_count": 140,
     "metadata": {},
     "output_type": "execute_result"
    }
   ],
   "source": [
    "# Delete entries by key\n",
    "\n",
    "del(spider_release_dict['Spider-Man'])\n",
    "del(spider_release_dict['Spider-Man 2'])\n",
    "spider_release_dict\n"
   ]
  },
  {
   "cell_type": "code",
   "execution_count": 141,
   "metadata": {
    "jupyter": {
     "outputs_hidden": false
    }
   },
   "outputs": [
    {
     "data": {
      "text/plain": [
       "False"
      ]
     },
     "execution_count": 141,
     "metadata": {},
     "output_type": "execute_result"
    }
   ],
   "source": [
    "# Verify the key is in the dictionary\n",
    "'Spider-Man' in spider_release_dict"
   ]
  },
  {
   "cell_type": "code",
   "execution_count": 24,
   "metadata": {},
   "outputs": [
    {
     "name": "stdout",
     "output_type": "stream",
     "text": [
      "2002\n"
     ]
    }
   ],
   "source": [
    "# Accessing dictionary elements using get() method\n",
    "print(spider_release_dict.get('Spider-Man'))"
   ]
  },
  {
   "cell_type": "code",
   "execution_count": 63,
   "metadata": {},
   "outputs": [],
   "source": [
    "# updating the dictionary s1 with s2 using update method\n",
    "s1 = {\n",
    "    '101' : ['James', 20, 'CSIS'],\n",
    "    '201' : ['Kalpana', 30, 'ECE']\n",
    "}"
   ]
  },
  {
   "cell_type": "code",
   "execution_count": 60,
   "metadata": {},
   "outputs": [],
   "source": [
    "s2 = {\n",
    "    '401' : ['Priyanka', 35, 'Management'],\n",
    "    '501' : ['Kishore', 25, 'CIVIL']\n",
    "}"
   ]
  },
  {
   "cell_type": "code",
   "execution_count": 62,
   "metadata": {},
   "outputs": [
    {
     "data": {
      "text/plain": [
       "{'101': ['James', 20, 'CSIS'],\n",
       " '201': ['Kalpana', 30, 'ECE'],\n",
       " '401': ['Priyanka', 35, 'Management'],\n",
       " '501': ['Kishore', 25, 'CIVIL']}"
      ]
     },
     "execution_count": 62,
     "metadata": {},
     "output_type": "execute_result"
    }
   ],
   "source": [
    "s1.update(s2)\n",
    "s1"
   ]
  },
  {
   "cell_type": "code",
   "execution_count": 69,
   "metadata": {},
   "outputs": [
    {
     "name": "stdout",
     "output_type": "stream",
     "text": [
      "[86, 95, 78, 85]\n"
     ]
    }
   ],
   "source": [
    "# calculating an average values of a dictionary\n",
    "g = {\n",
    "    'student1' : [85, 92, 94, 88],\n",
    "    'student2' : [86, 95, 78, 85]\n",
    "}\n",
    "\n",
    "print(g['student2'])"
   ]
  },
  {
   "cell_type": "code",
   "execution_count": 70,
   "metadata": {},
   "outputs": [
    {
     "name": "stdout",
     "output_type": "stream",
     "text": [
      "Avg grade for student2:  86.0\n"
     ]
    }
   ],
   "source": [
    "# We use sum and length function to find the average\n",
    "x = sum(g['student2'])\n",
    "y = len(g['student2'])\n",
    "\n",
    "print(\"Avg grade for student2: \", x/y)"
   ]
  },
  {
   "cell_type": "markdown",
   "metadata": {},
   "source": [
    "### Nested Dictionaries"
   ]
  },
  {
   "cell_type": "code",
   "execution_count": 107,
   "metadata": {},
   "outputs": [],
   "source": [
    "# A sample nested DICT of employee details\n",
    "employeeDict = {\n",
    "    'Name' : {'FirstName' : 'Kevin', 'LastName' : 'G'} ,\n",
    "    'JobTitle' : ['Developer', 'Manager'],\n",
    "    'City' : 'Pune',\n",
    "}"
   ]
  },
  {
   "cell_type": "code",
   "execution_count": 90,
   "metadata": {},
   "outputs": [
    {
     "name": "stdout",
     "output_type": "stream",
     "text": [
      "{'Name': {'FirstName': 'Kevin', 'LastName': 'G'}, 'JobTitle': ['Developer', 'Manager'], 'City': 'Pune'}\n"
     ]
    }
   ],
   "source": [
    "print(employeeDict)"
   ]
  },
  {
   "cell_type": "code",
   "execution_count": 91,
   "metadata": {},
   "outputs": [
    {
     "data": {
      "text/plain": [
       "{'FirstName': 'Kevin', 'LastName': 'G'}"
      ]
     },
     "execution_count": 91,
     "metadata": {},
     "output_type": "execute_result"
    }
   ],
   "source": [
    "# Accessing the name which is a dictionary itself inside a dictionary\n",
    "employeeDict['Name']"
   ]
  },
  {
   "cell_type": "code",
   "execution_count": 94,
   "metadata": {},
   "outputs": [
    {
     "data": {
      "text/plain": [
       "{'FirstName': 'Kevin', 'LastName': 'G'}"
      ]
     },
     "execution_count": 94,
     "metadata": {},
     "output_type": "execute_result"
    }
   ],
   "source": [
    "# Accessing name using get method \n",
    "employeeDict.get('Name')"
   ]
  },
  {
   "cell_type": "code",
   "execution_count": 106,
   "metadata": {},
   "outputs": [
    {
     "data": {
      "text/plain": [
       "'G'"
      ]
     },
     "execution_count": 106,
     "metadata": {},
     "output_type": "execute_result"
    }
   ],
   "source": [
    "# Accessing only the last name (one of the items in the nested element)\n",
    "\n",
    "employeeDict['Name']['LastName']"
   ]
  },
  {
   "cell_type": "code",
   "execution_count": 98,
   "metadata": {},
   "outputs": [
    {
     "data": {
      "text/plain": [
       "'G'"
      ]
     },
     "execution_count": 98,
     "metadata": {},
     "output_type": "execute_result"
    }
   ],
   "source": [
    "# we can also use get() method to access the nested elements\n",
    "employeeDict['Name'].get('LastName')\n"
   ]
  },
  {
   "cell_type": "code",
   "execution_count": 108,
   "metadata": {},
   "outputs": [
    {
     "data": {
      "text/plain": [
       "['Developer', 'Manager']"
      ]
     },
     "execution_count": 108,
     "metadata": {},
     "output_type": "execute_result"
    }
   ],
   "source": [
    "# Accessing job title which is a list \n",
    "employeeDict['JobTitle']"
   ]
  },
  {
   "cell_type": "code",
   "execution_count": 109,
   "metadata": {},
   "outputs": [],
   "source": [
    "# Adding element in a nested element\n",
    "employeeDict['JobTitle'].append(\"Systems Analyst\")"
   ]
  },
  {
   "cell_type": "code",
   "execution_count": 110,
   "metadata": {},
   "outputs": [
    {
     "data": {
      "text/plain": [
       "['Developer', 'Manager', 'Systems Analyst']"
      ]
     },
     "execution_count": 110,
     "metadata": {},
     "output_type": "execute_result"
    }
   ],
   "source": [
    "employeeDict['JobTitle']"
   ]
  },
  {
   "cell_type": "code",
   "execution_count": 112,
   "metadata": {},
   "outputs": [],
   "source": [
    "# Another example on nested dictionary\n",
    "my_dict = {'key1':123,'key2':[12,23,33],'key3':['item0','item1','item2']}"
   ]
  },
  {
   "cell_type": "code",
   "execution_count": 118,
   "metadata": {},
   "outputs": [
    {
     "data": {
      "text/plain": [
       "33"
      ]
     },
     "execution_count": 118,
     "metadata": {},
     "output_type": "execute_result"
    }
   ],
   "source": [
    "# Accessing the 2nd index of 'key2' \n",
    "# (We already discussed that dictionary has no indexing, \n",
    "# As 'key2' is a list, we can access its elements using index) \n",
    "\n",
    "my_dict['key2'][2]"
   ]
  },
  {
   "cell_type": "code",
   "execution_count": 120,
   "metadata": {
    "scrolled": true
   },
   "outputs": [
    {
     "data": {
      "text/plain": [
       "'item0'"
      ]
     },
     "execution_count": 120,
     "metadata": {},
     "output_type": "execute_result"
    }
   ],
   "source": [
    "# value of key3 which is also a nested list\n",
    "my_dict['key3'][0]"
   ]
  },
  {
   "cell_type": "code",
   "execution_count": 122,
   "metadata": {},
   "outputs": [
    {
     "data": {
      "text/plain": [
       "'ITEM0'"
      ]
     },
     "execution_count": 122,
     "metadata": {},
     "output_type": "execute_result"
    }
   ],
   "source": [
    "# We Can then call methods on that value\n",
    "# for example using upper method \n",
    "my_dict['key3'][0].upper()"
   ]
  },
  {
   "cell_type": "markdown",
   "metadata": {},
   "source": [
    "### List , Tuples, Dictionaries - Where to use"
   ]
  },
  {
   "cell_type": "markdown",
   "metadata": {},
   "source": [
    "Tuples\n",
    "\n",
    "Apart from tuples being immutable, tuples are heterogeneous data structures\n",
    "\n",
    "(i.e., their entries have different meanings, Student name and grage, name and marks, employee name and designation) \n",
    "\n",
    "Lists\n",
    "\n",
    "lists are homogeneous sequences (A list of page numbers, list of names) \n",
    "\n",
    "Tuples have structure, Lists have order.\n"
   ]
  },
  {
   "cell_type": "markdown",
   "metadata": {},
   "source": [
    "Tuples are used when we want to pass an object to a function & \n",
    "\n",
    "if we need to make sure that values does not get changed &\n",
    "\n",
    "when we want to store a person’s credentials for website, then tuples can be used.\n",
    "\n",
    "eg:- person = (‘ABC’,’admin’,’12345')\n"
   ]
  },
  {
   "cell_type": "markdown",
   "metadata": {},
   "source": [
    "Lists are used, when we want to store similar elements.\n",
    "\n",
    "eg: - groceries = [‘bread’,’butter’,’cheese’]"
   ]
  },
  {
   "cell_type": "markdown",
   "metadata": {},
   "source": [
    "#### Example on how we can use tuples, lists and dictionary.\n",
    "\n",
    "Creating a reference to content of a book using page number and line number.\n",
    "\n",
    "Once created later, we can access content of a book using the page number and line number."
   ]
  },
  {
   "cell_type": "code",
   "execution_count": 137,
   "metadata": {},
   "outputs": [
    {
     "data": {
      "text/plain": [
       "(42, 11)"
      ]
     },
     "execution_count": 137,
     "metadata": {},
     "output_type": "execute_result"
    }
   ],
   "source": [
    "# (page number, line number)\n",
    "my_location = (42, 11)\n",
    "my_location"
   ]
  },
  {
   "cell_type": "markdown",
   "metadata": {},
   "source": [
    "We do not add or remove items from an existing location(as we need only page number and line number to access a content and the numbers are NOT going to be chaNged) tuples can be used as they are immutable."
   ]
  },
  {
   "cell_type": "markdown",
   "metadata": {},
   "source": [
    "Now, We can then use this tuples (ie. parir of page numbers and line numbers as a key in a dictionary to store notes on the content in that locations. \n"
   ]
  },
  {
   "cell_type": "code",
   "execution_count": 132,
   "metadata": {},
   "outputs": [
    {
     "name": "stdout",
     "output_type": "stream",
     "text": [
      "{(42, 11): 'problem statement to solve using data science', (48, 10): 'suggested machine learning algorithams', (53, 15): 'artificial inteligence application'}\n"
     ]
    }
   ],
   "source": [
    "# ds, ml, ai are tuples used to store \n",
    "# a page number and line number in a data science book\n",
    "ds = (42, 11) \n",
    "ml = (48, 10)\n",
    "ai = (53, 15)\n",
    "\n",
    "content_dict = {ds : \"problem statement to solve using data science\", \n",
    "                ml : \"suggested machine learning algorithams\", \n",
    "                ai : \"artificial inteligence application\"}\n",
    "print(content_dict)"
   ]
  },
  {
   "cell_type": "code",
   "execution_count": 133,
   "metadata": {},
   "outputs": [
    {
     "data": {
      "text/plain": [
       "'problem statement to solve using data science'"
      ]
     },
     "execution_count": 133,
     "metadata": {},
     "output_type": "execute_result"
    }
   ],
   "source": [
    "#Accessing the content\n",
    "content_dict[(42, 11)]"
   ]
  },
  {
   "cell_type": "markdown",
   "metadata": {},
   "source": [
    "A list on the other hand can be used to store multiple locations of a book.\n",
    "\n",
    "As we may want to add or remove locations from the list. We know that lists are mutable and it solve the purpose of updating a list of locations."
   ]
  },
  {
   "cell_type": "code",
   "execution_count": 136,
   "metadata": {},
   "outputs": [
    {
     "name": "stdout",
     "output_type": "stream",
     "text": [
      "[(42, 11), (48, 10), (48, 18), (53, 15)]\n"
     ]
    }
   ],
   "source": [
    "location_list = [(42, 11), (48, 10), (48, 18), (53, 15)]\n",
    "print(location_list)"
   ]
  },
  {
   "cell_type": "markdown",
   "metadata": {},
   "source": [
    "Thank You"
   ]
  }
 ],
 "metadata": {
  "kernelspec": {
   "display_name": "Python 3",
   "language": "python",
   "name": "python3"
  },
  "language_info": {
   "codemirror_mode": {
    "name": "ipython",
    "version": 3
   },
   "file_extension": ".py",
   "mimetype": "text/x-python",
   "name": "python",
   "nbconvert_exporter": "python",
   "pygments_lexer": "ipython3",
   "version": "3.7.6"
  }
 },
 "nbformat": 4,
 "nbformat_minor": 4
}
